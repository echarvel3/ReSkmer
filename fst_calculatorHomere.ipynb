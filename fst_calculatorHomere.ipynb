{
 "cells": [
  {
   "cell_type": "code",
   "execution_count": 3,
   "metadata": {},
   "outputs": [],
   "source": [
    "# 1. Read the ref-dist-mat into numpy for array\n",
    "# 2. Replace array names with annotations\n",
    "# 3. Double for loop to calculate F1 and F2\n",
    "# 4. Use F measuremnts to calculated M and FST measures"
   ]
  },
  {
   "cell_type": "code",
   "execution_count": 4,
   "metadata": {},
   "outputs": [],
   "source": [
    "import numpy as np\n"
   ]
  },
  {
   "cell_type": "code",
   "execution_count": 5,
   "metadata": {},
   "outputs": [
    {
     "name": "stdout",
     "output_type": "stream",
     "text": [
      "[['genome' 'family']\n",
      " ['unclassified-kra_ERR9709092_' 'Unknown']\n",
      " ['unclassified-kra_ERR9709093_' 'GieczPoland9th13thcentury']\n",
      " ['unclassified-kra_ERR9709096_' 'GieczPoland9th13thcentury']\n",
      " ['unclassified-kra_ERR9709100_' 'GieczPoland9th13thcentury']\n",
      " ['unclassified-kra_ERR9709101_' 'GieczPoland9th13thcentury']\n",
      " ['unclassified-kra_ERR9709105_' 'GieczPoland9th13thcentury']\n",
      " ['unclassified-kra_ERR9709107_' 'GieczPoland9th13thcentury']\n",
      " ['unclassified-kra_ERR9709109_' 'GieczPoland9th13thcentury']\n",
      " ['unclassified-kra_ERR9709114_' 'MalaNieszawkaPoland14th-15thcentury']\n",
      " ['unclassified-kra_ERR9709115_' 'MalaNieszawkaPoland14th-15thcentury']\n",
      " ['unclassified-kra_ERR9709117_' 'MalaNieszawkaPoland14th-15thcentury']\n",
      " ['unclassified-kra_ERR9709118_' 'MalaNieszawkaPoland14th-15thcentury']\n",
      " ['unclassified-kra_ERR9709119_' 'MalaNieszawkaPoland14th-15thcentury']\n",
      " ['unclassified-kra_ERR9709121_' 'MalaNieszawkaPoland14th-15thcentury']\n",
      " ['unclassified-kra_ERR9709122_' 'MalaNieszawkaPoland14th-15thcentury']\n",
      " ['unclassified-kra_ERR9709123_' 'MalaNieszawkaPoland14th-15thcentury']\n",
      " ['unclassified-kra_ERR9709124_' 'MalaNieszawkaPoland14th-15thcentury']\n",
      " ['unclassified-kra_ERR9709125_' 'MalaNieszawkaPoland14th-15thcentury']\n",
      " ['unclassified-kra_ERR9709126_' 'MalaNieszawkaPoland14th-15thcentury']\n",
      " ['unclassified-kra_ERR9709127_' 'MalaNieszawkaPoland14th-15thcentury']\n",
      " ['unclassified-kra_ERR9709136_' 'TrusoJanówPomorskiPoland800850CE']\n",
      " ['unclassified-kra_ERR9709137_' 'TrusoJanówPomorskiPoland800850CE']\n",
      " ['unclassified-kra_ERR9709140_' 'TrusoJanówPomorskiPoland800850CE']\n",
      " ['unclassified-kra_ERR9709141_' 'TrusoJanówPomorskiPoland800850CE']\n",
      " ['unclassified-kra_ERR9709142_' 'TrusoJanówPomorskiPoland800850CE']\n",
      " ['unclassified-kra_ERR9709144_' 'TrusoJanówPomorskiPoland800850CE']\n",
      " ['unclassified-kra_ERR9709145_' 'TrusoJanówPomorskiPoland800850CE']\n",
      " ['unclassified-kra_ERR9709146_' 'TrusoJanówPomorskiPoland800850CE']\n",
      " ['unclassified-kra_ERR9709147_' 'TrusoJanówPomorskiPoland800850CE']\n",
      " ['unclassified-kra_ERR9709149_' 'TrusoJanówPomorskiPoland800850CE']\n",
      " ['unclassified-kra_ERR9709155_' 'TrusoJanówPomorskiPoland800850CE']\n",
      " ['unclassified-kra_ERR9709158_' 'TrusoJanówPomorskiPoland800850CE']\n",
      " ['unclassified-kra_ERR9709178_' 'KolowbrzwegBudzistowoPoland750850CE']\n",
      " ['unclassified-kra_ERR9709187_' 'SelsoVestbyDenmark10th11thcentury']\n",
      " ['unclassified-kra_ERR9709190_' 'SelsoVestbyDenmark10th11thcentury']\n",
      " ['unclassified-kra_ERR9709195_' 'SelsoVestbyDenmark12901380CE']\n",
      " ['unclassified-kra_ERR9709198_' 'SelsoVestbyDenmark12901380CE']\n",
      " ['unclassified-kra_ERR9709199_' 'SelsoVestbyDenmark12901380CE']\n",
      " ['unclassified-kra_ERR9709203_' 'KarmoyNorway2002']\n",
      " ['unclassified-kra_ERR9709204_' 'KarmoyNorway2002']\n",
      " ['unclassified-kra_ERR9709208_' 'MoreNorway2002']\n",
      " ['unclassified-kra_ERR9709209_' 'RisorNorway2003']\n",
      " ['unclassified-kra_ERR9709211_' 'RisorNorway2003']\n",
      " ['unclassified-kra_ERR9709214_' 'MaseskarSweden2003']\n",
      " ['unclassified-kra_ERR9709217_' 'KalixFinland2002']\n",
      " ['unclassified-kra_ERR9709218_' 'KalixFinland2002']\n",
      " ['unclassified-kra_ERR9709219_' 'KalmarsundSweden2010']\n",
      " ['unclassified-kra_ERR9709223_' 'IdefjordInnerNorway2010']\n",
      " ['unclassified-kra_ERR9709228_' 'IdefjordOuterNorway2010']\n",
      " ['unclassified-kra_ERR9709232_' 'MaseskarSweden2003']\n",
      " ['unclassified-kra_ERR9709234_' 'MaseskarSweden2003']\n",
      " ['unclassified-kra_ERR9709235_' 'RisorNorway2003']\n",
      " ['unclassified-kra_ERR9709237_' 'IdefjordOuterNorway2010']\n",
      " ['unclassified-kra_ERR9709238_' 'IdefjordOuterNorway2010']\n",
      " ['unclassified-kra_ERR9709240_' 'KalmarsundSweden2010']\n",
      " ['unclassified-kra_ERR9709243_' 'KalixFinland2002']\n",
      " ['unclassified-kra_ERR9709244_' 'KalixFinland2002']\n",
      " ['unclassified-kra_ERR9709249_' 'IdefjordInnerNorway2010']\n",
      " ['unclassified-kra_ERR9709253_' 'RisorNorway2003']\n",
      " ['unclassified-kra_SRR12106874_' 'Unknown']\n",
      " ['unclassified-kra_SRR12106875_' 'Unknown']\n",
      " ['unclassified-kra_SRR12106878_' 'Unknown']\n",
      " ['unclassified-kra_SRR12106882_' 'Unknown']\n",
      " ['unclassified-kra_SRR12106899_' 'Unknown']\n",
      " ['unclassified-kra_SRR12106905_' 'Unknown']\n",
      " ['unclassified-kra_SRR12106906_' 'Unknown']\n",
      " ['unclassified-kra_SRR12106915_' 'Unknown']\n",
      " ['unclassified-kra_SRR12106930_' 'Unknown']\n",
      " ['unclassified-kra_SRR12106932_' 'Unknown']\n",
      " ['unclassified-kra_SRR12106934_' 'Unknown']\n",
      " ['unclassified-kra_SRR12106937_' 'Unknown']\n",
      " ['unclassified-kra_SRR12106945_' 'Unknown']\n",
      " ['unclassified-kra_SRR12106949_' 'Unknown']\n",
      " ['unclassified-kra_SRR12106953_' 'Unknown']\n",
      " ['unclassified-kra_SRR12106955_' 'Unknown']\n",
      " ['unclassified-kra_SRR12106956_' 'Unknown']\n",
      " ['unclassified-kra_SRR12106957_' 'Unknown']]\n"
     ]
    }
   ],
   "source": [
    "dist_mat = np.genfromtxt(\"./data/Clupea_11jan24/11jan_jc_ref-dist-mat.txt.txt\", dtype=\"str\")\n",
    "annots = np.genfromtxt(\"./data/Clupea_11jan24/11jan_ClupeaAtmore_Fstannot.tsv\", dtype=\"str\")\n",
    "print(annots)\n",
    "# dist_mat = numpy.genfromtxt(\"/home/echarvel/Desktop/calab_data/code_bases/Skmer-2/fst_test_data/test_matrix.txt\", dtype=\"str\")\n",
    "# annots = numpy.genfromtxt(\"/home/echarvel/Desktop/calab_data/code_bases/Skmer-2/fst_test_data/test_annots.txt\", dtype=\"str\")"
   ]
  },
  {
   "cell_type": "code",
   "execution_count": 6,
   "metadata": {},
   "outputs": [],
   "source": [
    "for line in annots:\n",
    "    x = np.where(dist_mat == line[0])\n",
    "    for index in x: \n",
    "        try:\n",
    "            dist_mat[index[0]][index[1]] = line[1]\n",
    "        except: pass"
   ]
  },
  {
   "cell_type": "code",
   "execution_count": 7,
   "metadata": {},
   "outputs": [],
   "source": [
    "dist_dict = dict()\n",
    "\n",
    "for num1 in range(1, len(dist_mat[0])):\n",
    "    for num2 in range(1, len(dist_mat[0])):\n",
    "        if num1 != num2: \n",
    "            name1=dist_mat[0][num1]\n",
    "            name2=dist_mat[0][num2]\n",
    "            if name1 not in dist_dict:\n",
    "                dist_dict[name1] = dict()\n",
    "\n",
    "            if name2 not in dist_dict[name1]:\n",
    "                dist_dict[name1][name2] = [float(dist_mat[num1, num2])]\n",
    "            else: \n",
    "                dist_dict[name1][name2].append(float(dist_mat[num1, num2]))\n",
    "        if num1 == num2:\n",
    "            name1=name2=dist_mat[0][num1]\n",
    "            \n",
    "            if name1 not in dist_dict:\n",
    "                dist_dict[name1] = dict()\n",
    "\n",
    "            if name2 not in dist_dict[name1]:\n",
    "                dist_dict[name1][name2] = []\n",
    "\n",
    "key_list = list(dist_dict.keys())"
   ]
  },
  {
   "cell_type": "code",
   "execution_count": 8,
   "metadata": {},
   "outputs": [],
   "source": [
    "def make_empty_matrix(dist_dict, key_list):\n",
    "    matrix = [[0 for x in range(0, len(dist_dict)+1)] for x in range(0, len(dist_dict)+1)]\n",
    "    matrix[0][0]=\"sample\"\n",
    "    for x in range(0, len(dist_dict)):\n",
    "        matrix[0][x+1] = matrix[x+1][0] = (key_list[x])\n",
    "    return matrix\n",
    "\n",
    "def calculate_WC_FST(F1, F2, M):\n",
    "    numerator_wc_fst = F1 + F2\n",
    "    denominator_wc_fst = F1 + F2 + 2 * (1 / (M + 1)) * (M * (1 - F1) + (1 - F2))\n",
    "    WC_FST = numerator_wc_fst / denominator_wc_fst\n",
    "    return WC_FST\n",
    "\n",
    "def calculate_Nei_FST(F1, F2):\n",
    "    numerator_nei_fst = F1 + F2\n",
    "    denominator_nei_fst = 2 - ((F1 + F2) / 2)\n",
    "    Nei_FST = numerator_nei_fst / denominator_nei_fst\n",
    "    return Nei_FST\n",
    "\n",
    "def calculate_Hudson_FST(F1, F2):\n",
    "    Hudson_FST = (F1 + F2) / 2\n",
    "    return Hudson_FST"
   ]
  },
  {
   "cell_type": "code",
   "execution_count": 9,
   "metadata": {},
   "outputs": [],
   "source": [
    "F_mtrx = make_empty_matrix(dist_dict, key_list)\n",
    "wh_fst_mtrx = make_empty_matrix(dist_dict, key_list)\n",
    "wc_fst_mtrx = make_empty_matrix(dist_dict, key_list)\n",
    "nei_fst_mtrx = make_empty_matrix(dist_dict, key_list)\n",
    "hud_fst_mtrx = make_empty_matrix(dist_dict, key_list)\n",
    "clade_dist_mtrx = make_empty_matrix(dist_dict, key_list)\n",
    "thetas_list = [[key,0.0] for key in key_list]"
   ]
  },
  {
   "cell_type": "code",
   "execution_count": 10,
   "metadata": {},
   "outputs": [
    {
     "name": "stdout",
     "output_type": "stream",
     "text": [
      "[['sample', 'Unknown', 'GieczPoland9th13thcentury', 'MalaNieszawkaPoland14th-15thc', 'TrusoJanówPomorskiPoland80085', 'KolowbrzwegBudzistowoPoland75', 'SelsoVestbyDenmark10th11thcen', 'SelsoVestbyDenmark12901380CE', 'KarmoyNorway2002', 'MoreNorway2002', 'RisorNorway2003', 'MaseskarSweden2003', 'KalixFinland2002', 'KalmarsundSweden2010', 'IdefjordInnerNorway2010', 'IdefjordOuterNorway2010'], ['Unknown', 0, 0.60695, 0.75046, 0.61354, 'NA', 0.75272, 0.81353, 0.9281, 'NA', 0.96023, 0.96163, 0.95143, 0.95053, 0.95443, 1.02053], ['GieczPoland9th13thcentury', 0.60695, 0, 0.75055, 0.62321, 'NA', 0.80102, 0.79406, 0.40944, 'NA', 0.45538, 0.40887, 0.45759, 0.45795, 0.42235, 0.50544], ['MalaNieszawkaPoland14th-15thc', 0.75046, 0.75055, 0, 0.76222, 'NA', 0.89704, 0.95419, 0.71174, 'NA', 0.72327, 0.7084, 0.72656, 0.72811, 0.71478, 0.7153], ['TrusoJanówPomorskiPoland80085', 0.61354, 0.62321, 0.76222, 0, 'NA', 0.82458, 0.79335, 0.55337, 'NA', 0.56764, 0.55382, 0.5683, 0.5692, 0.55869, 0.58161], ['KolowbrzwegBudzistowoPoland75', 'NA', 'NA', 'NA', 'NA', 0, 'NA', 'NA', 'NA', 'NA', 'NA', 'NA', 'NA', 'NA', 'NA', 'NA'], ['SelsoVestbyDenmark10th11thcen', 0.75272, 0.80102, 0.89704, 0.82458, 'NA', 0, 0.94398, 0.74171, 'NA', 0.74217, 0.74242, 0.7453, 0.74561, 0.74157, 0.73791], ['SelsoVestbyDenmark12901380CE', 0.81353, 0.79406, 0.95419, 0.79335, 'NA', 0.94398, 0, 0.78672, 'NA', 0.79372, 0.78534, 0.7931, 0.79692, 0.79158, 0.78607], ['KarmoyNorway2002', 0.9281, 0.40944, 0.71174, 0.55337, 'NA', 0.74171, 0.78672, 0, 'NA', 0.97615, 0.853, 0.92829, 0.94738, 1.00204, 0.98452], ['MoreNorway2002', 'NA', 'NA', 'NA', 'NA', 'NA', 'NA', 'NA', 'NA', 0, 'NA', 'NA', 'NA', 'NA', 'NA', 'NA'], ['RisorNorway2003', 0.96023, 0.45538, 0.72327, 0.56764, 'NA', 0.74217, 0.79372, 0.97615, 'NA', 0, 1.00491, 0.98189, 0.99066, 0.99196, 1.00501], ['MaseskarSweden2003', 0.96163, 0.40887, 0.7084, 0.55382, 'NA', 0.74242, 0.78534, 0.853, 'NA', 1.00491, 0, 0.94452, 0.95903, 0.93162, 1.05431], ['KalixFinland2002', 0.95143, 0.45759, 0.72656, 0.5683, 'NA', 0.7453, 0.7931, 0.92829, 'NA', 0.98189, 0.94452, 0, 1.00026, 0.94542, 0.98125], ['KalmarsundSweden2010', 0.95053, 0.45795, 0.72811, 0.5692, 'NA', 0.74561, 0.79692, 0.94738, 'NA', 0.99066, 0.95903, 1.00026, 0, 0.96983, 0.98488], ['IdefjordInnerNorway2010', 0.95443, 0.42235, 0.71478, 0.55869, 'NA', 0.74157, 0.79158, 1.00204, 'NA', 0.99196, 0.93162, 0.94542, 0.96983, 0, 1.02122], ['IdefjordOuterNorway2010', 1.02053, 0.50544, 0.7153, 0.58161, 'NA', 0.73791, 0.78607, 0.98452, 'NA', 1.00501, 1.05431, 0.98125, 0.98488, 1.02122, 0]]\n"
     ]
    }
   ],
   "source": [
    "for key1, index1 in zip(key_list, range(len(key_list))):\n",
    "     for key2, index2 in zip(key_list, range(len(key_list))):\n",
    "        if key1 == key2:\n",
    "            break\n",
    "        else:\n",
    "            dist_array_k1_k1 = dist_dict[key1][key1]\n",
    "            dist_array_k2_k2 = dist_dict[key2][key2]\n",
    "            dist_array_k1_k2 = dist_dict[key1][key2]\n",
    "\n",
    "            across_k1_k2 = sum(dist_array_k1_k2)/len(dist_array_k1_k2)\n",
    "\n",
    "            max_k1_k1 = max(dist_array_k1_k1) if (len(dist_array_k1_k1) != 0) else 0\n",
    "            max_k2_k2 = max(dist_array_k1_k1) if (len(dist_array_k1_k1) != 0) else 0\n",
    "            max_k1_k2 = max(dist_array_k1_k2) \n",
    "\n",
    "            clade_dist_mtrx[index1+1][index2+1] = clade_dist_mtrx[index2+1][index1+1] = max_k1_k2 - (max_k1_k1 + max_k2_k2)/2\n",
    " \n",
    "            if ((len(dist_array_k1_k1) == 0) or len(dist_array_k2_k2) == 0):\n",
    "                # Checks if any of the populations only have one members.\n",
    "                # Calculates F1 or F2 if possible. If not, assigns \"NA\". \n",
    "                # Assigns \"NA\" to all other Fst calculations.\n",
    "                if (len(dist_array_k1_k1) != 0):\n",
    "                    within_k1 = sum(dist_array_k1_k1)/len(dist_array_k1_k1)\n",
    "                    F1 = within_k1/across_k1_k2\n",
    "                    thetas_list[index1] = round(within_k1, 5)\n",
    "                    F_mtrx[index1+1][index2+1] = round(F1, 5)\n",
    "                    F_mtrx[index2+1][index1+1] = \"NA\"\n",
    "                elif (len(dist_array_k2_k2) != 0):\n",
    "                    within_k2 = sum(dist_array_k2_k2)/len(dist_array_k2_k2)\n",
    "                    F2 = within_k2/across_k1_k2\n",
    "                    thetas_list[index1] = \"NA\"\n",
    "                    F_mtrx[index1+1][index2+1] = \"NA\"\n",
    "                    F_mtrx[index2+1][index1+1] = round(F2, 5)\n",
    "                    \n",
    "                else:\n",
    "                    F_mtrx[index1+1][index2+1] = F_mtrx[index2+1][index1+1] =\"NA\"\n",
    "\n",
    "                wh_fst_mtrx[index1+1][index2+1] = wh_fst_mtrx[index2+1][index1+1] = \"NA\"\n",
    "                wc_fst_mtrx[index1+1][index2+1] = wc_fst_mtrx[index2+1][index1+1] = \"NA\"\n",
    "                nei_fst_mtrx[index1+1][index2+1] = nei_fst_mtrx[index2+1][index1+1] = \"NA\"\n",
    "                hud_fst_mtrx[index1+1][index2+1] = hud_fst_mtrx[index2+1][index1+1] = \"NA\"\n",
    "            else:\n",
    "                within_k1 = sum(dist_array_k1_k1)/len(dist_array_k1_k1)\n",
    "                within_k2 = sum(dist_array_k2_k2)/len(dist_array_k2_k2)\n",
    "\n",
    "                F1 = within_k1/across_k1_k2\n",
    "                F2 = within_k2/across_k1_k2\n",
    "\n",
    "                if len(dist_array_k1_k1) <= len(dist_array_k2_k2):\n",
    "                    M=len(dist_array_k1_k1)/len(dist_array_k2_k2)\n",
    "                else:\n",
    "                    M=len(dist_array_k2_k2)/len(dist_array_k1_k1)\n",
    "\n",
    "                thetas_list[index1] = round(within_k1, 5)\n",
    "                # NOTE: F_matrix contains F1 in the lower half and F2 in the upper half. \n",
    "                F_mtrx[index1+1][index2+1] =  round(F1, 5)\n",
    "                F_mtrx[index2+1][index1+1] =  round(F2, 5)\n",
    "                wh_fst_mtrx[index1+1][index2+1] = wh_fst_mtrx[index2+1][index1+1] = round((F1 + F2)/2, 5)\n",
    "                wc_fst_mtrx[index1+1][index2+1] = wc_fst_mtrx[index2+1][index1+1] = round(calculate_WC_FST(F1, F2, M), 5)\n",
    "                nei_fst_mtrx[index1+1][index2+1] = nei_fst_mtrx[index2+1][index1+1] = round(calculate_Nei_FST(F1, F2), 5)\n",
    "                hud_fst_mtrx[index1+1][index2+1] = hud_fst_mtrx[index2+1][index1+1] =  round(calculate_Hudson_FST(F1, F2), 5)\n",
    "print(wh_fst_mtrx)"
   ]
  },
  {
   "cell_type": "code",
   "execution_count": 11,
   "metadata": {},
   "outputs": [
    {
     "ename": "ValueError",
     "evalue": "setting an array element with a sequence. The requested array has an inhomogeneous shape after 1 dimensions. The detected shape was (15,) + inhomogeneous part.",
     "output_type": "error",
     "traceback": [
      "\u001b[0;31m---------------------------------------------------------------------------\u001b[0m",
      "\u001b[0;31mValueError\u001b[0m                                Traceback (most recent call last)",
      "Cell \u001b[0;32mIn[11], line 1\u001b[0m\n\u001b[0;32m----> 1\u001b[0m np\u001b[38;5;241m.\u001b[39msavetxt(\u001b[38;5;124m\"\u001b[39m\u001b[38;5;124m./testClupeaAtmore/11jan_ClupeaAtmore_theta_list_genu_nas.txt\u001b[39m\u001b[38;5;124m\"\u001b[39m, \u001b[43mnp\u001b[49m\u001b[38;5;241;43m.\u001b[39;49m\u001b[43mmatrix\u001b[49m\u001b[43m(\u001b[49m\u001b[43mthetas_list\u001b[49m\u001b[43m)\u001b[49m, fmt\u001b[38;5;241m=\u001b[39m\u001b[38;5;124m\"\u001b[39m\u001b[38;5;132;01m%s\u001b[39;00m\u001b[38;5;124m\"\u001b[39m, delimiter\u001b[38;5;241m=\u001b[39m\u001b[38;5;124m\"\u001b[39m\u001b[38;5;130;01m\\t\u001b[39;00m\u001b[38;5;124m\"\u001b[39m)\n\u001b[1;32m      2\u001b[0m np\u001b[38;5;241m.\u001b[39msavetxt(\u001b[38;5;124m\"\u001b[39m\u001b[38;5;124m./testClupeaAtmore/11jan_ClupeaAtmore_F_mat_genu_nas.txt\u001b[39m\u001b[38;5;124m\"\u001b[39m, np\u001b[38;5;241m.\u001b[39mmatrix(F_mtrx), fmt\u001b[38;5;241m=\u001b[39m\u001b[38;5;124m\"\u001b[39m\u001b[38;5;132;01m%s\u001b[39;00m\u001b[38;5;124m\"\u001b[39m, delimiter\u001b[38;5;241m=\u001b[39m\u001b[38;5;124m\"\u001b[39m\u001b[38;5;130;01m\\t\u001b[39;00m\u001b[38;5;124m\"\u001b[39m)\n\u001b[1;32m      3\u001b[0m np\u001b[38;5;241m.\u001b[39msavetxt(\u001b[38;5;124m\"\u001b[39m\u001b[38;5;124m./testClupeaAtmore/11jan_ClupeaAtmore_wh_fst_mat_genu_nas.txt\u001b[39m\u001b[38;5;124m\"\u001b[39m, np\u001b[38;5;241m.\u001b[39mmatrix(wh_fst_mtrx), fmt\u001b[38;5;241m=\u001b[39m\u001b[38;5;124m\"\u001b[39m\u001b[38;5;132;01m%s\u001b[39;00m\u001b[38;5;124m\"\u001b[39m, delimiter\u001b[38;5;241m=\u001b[39m\u001b[38;5;124m\"\u001b[39m\u001b[38;5;130;01m\\t\u001b[39;00m\u001b[38;5;124m\"\u001b[39m)\n",
      "File \u001b[0;32m~/Library/Python/3.9/lib/python/site-packages/numpy/matrixlib/defmatrix.py:146\u001b[0m, in \u001b[0;36mmatrix.__new__\u001b[0;34m(subtype, data, dtype, copy)\u001b[0m\n\u001b[1;32m    143\u001b[0m     data \u001b[38;5;241m=\u001b[39m _convert_from_string(data)\n\u001b[1;32m    145\u001b[0m \u001b[38;5;66;03m# now convert data to an array\u001b[39;00m\n\u001b[0;32m--> 146\u001b[0m arr \u001b[38;5;241m=\u001b[39m \u001b[43mN\u001b[49m\u001b[38;5;241;43m.\u001b[39;49m\u001b[43marray\u001b[49m\u001b[43m(\u001b[49m\u001b[43mdata\u001b[49m\u001b[43m,\u001b[49m\u001b[43m \u001b[49m\u001b[43mdtype\u001b[49m\u001b[38;5;241;43m=\u001b[39;49m\u001b[43mdtype\u001b[49m\u001b[43m,\u001b[49m\u001b[43m \u001b[49m\u001b[43mcopy\u001b[49m\u001b[38;5;241;43m=\u001b[39;49m\u001b[43mcopy\u001b[49m\u001b[43m)\u001b[49m\n\u001b[1;32m    147\u001b[0m ndim \u001b[38;5;241m=\u001b[39m arr\u001b[38;5;241m.\u001b[39mndim\n\u001b[1;32m    148\u001b[0m shape \u001b[38;5;241m=\u001b[39m arr\u001b[38;5;241m.\u001b[39mshape\n",
      "\u001b[0;31mValueError\u001b[0m: setting an array element with a sequence. The requested array has an inhomogeneous shape after 1 dimensions. The detected shape was (15,) + inhomogeneous part."
     ]
    }
   ],
   "source": [
    "np.savetxt(\"./testClupeaAtmore/11jan_ClupeaAtmore_theta_list_genu_nas.txt\", np.matrix(thetas_list), fmt=\"%s\", delimiter=\"\\t\")\n",
    "np.savetxt(\"./testClupeaAtmore/11jan_ClupeaAtmore_F_mat_genu_nas.txt\", np.matrix(F_mtrx), fmt=\"%s\", delimiter=\"\\t\")\n",
    "np.savetxt(\"./testClupeaAtmore/11jan_ClupeaAtmore_wh_fst_mat_genu_nas.txt\", np.matrix(wh_fst_mtrx), fmt=\"%s\", delimiter=\"\\t\")\n",
    "np.savetxt(\"./testClupeaAtmore/11jan_ClupeaAtmore_wc_fst_mat_genu_nas.txt\", np.matrix(wc_fst_mtrx), fmt=\"%s\", delimiter=\"\\t\")\n",
    "np.savetxt(\"./testClupeaAtmore/11jan_ClupeaAtmore_nei_fst_mat_genu_nas.txt\", np.matrix(nei_fst_mtrx), fmt=\"%s\", delimiter=\"\\t\")\n",
    "np.savetxt(\"./testClupeaAtmore/11jan_ClupeaAtmore_hud_fst_mat_genu_nas.txt\", np.matrix(hud_fst_mtrx), fmt=\"%s\", delimiter=\"\\t\")\n",
    "np.savetxt(\"./testClupeaAtmore/11jan_ClupeaAtmore_clade_dist_mat_genu_nas.txt\", np.matrix(clade_dist_mtrx), fmt=\"%s\", delimiter=\"\\t\")"
   ]
  },
  {
   "cell_type": "code",
   "execution_count": null,
   "metadata": {},
   "outputs": [],
   "source": []
  }
 ],
 "metadata": {
  "kernelspec": {
   "display_name": "data_science",
   "language": "python",
   "name": "python3"
  },
  "language_info": {
   "codemirror_mode": {
    "name": "ipython",
    "version": 3
   },
   "file_extension": ".py",
   "mimetype": "text/x-python",
   "name": "python",
   "nbconvert_exporter": "python",
   "pygments_lexer": "ipython3",
   "version": "3.9.6"
  },
  "orig_nbformat": 4
 },
 "nbformat": 4,
 "nbformat_minor": 2
}
