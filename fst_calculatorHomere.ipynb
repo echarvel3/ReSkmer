{
 "cells": [
  {
   "cell_type": "code",
   "execution_count": 3,
   "metadata": {},
   "outputs": [],
   "source": [
    "# 1. Read the ref-dist-mat into numpy for array\n",
    "# 2. Replace array names with annotations\n",
    "# 3. Double for loop to calculate F1 and F2\n",
    "# 4. Use F measuremnts to calculated M and FST measures"
   ]
  },
  {
   "cell_type": "code",
   "execution_count": 6,
   "metadata": {},
   "outputs": [],
   "source": [
    "import numpy as np\n"
   ]
  },
  {
   "cell_type": "code",
   "execution_count": 35,
   "metadata": {},
   "outputs": [
    {
     "name": "stdout",
     "output_type": "stream",
     "text": [
      "[['genome' 'family']\n",
      " ['unclassified-kra_ERR9709092_' 'NA']\n",
      " ['unclassified-kra_ERR9709093_' 'Giecz_Poland_9th-13thcentury']\n",
      " ['unclassified-kra_ERR9709096_' 'Giecz_Poland_9th-13thcentury']\n",
      " ['unclassified-kra_ERR9709100_' 'Giecz_Poland_9th-13thcentury']\n",
      " ['unclassified-kra_ERR9709101_' 'Giecz_Poland_9th-13thcentury']\n",
      " ['unclassified-kra_ERR9709105_' 'Giecz_Poland_9th-13thcentury']\n",
      " ['unclassified-kra_ERR9709107_' 'Giecz_Poland_9th-13thcentury']\n",
      " ['unclassified-kra_ERR9709109_' 'Giecz_Poland_9th-13thcentury']\n",
      " ['unclassified-kra_ERR9709114_' 'MalaNieszawka_Poland_14th-15thcentury']\n",
      " ['unclassified-kra_ERR9709115_' 'MalaNieszawka_Poland_14th-15thcentury']\n",
      " ['unclassified-kra_ERR9709117_' 'MalaNieszawka_Poland_14th-15thcentury']\n",
      " ['unclassified-kra_ERR9709118_' 'MalaNieszawka_Poland_14th-15thcentury']\n",
      " ['unclassified-kra_ERR9709119_' 'MalaNieszawka_Poland_14th-15thcentury']\n",
      " ['unclassified-kra_ERR9709121_' 'MalaNieszawka_Poland_14th-15thcentury']\n",
      " ['unclassified-kra_ERR9709122_' 'MalaNieszawka_Poland_14th-15thcentury']\n",
      " ['unclassified-kra_ERR9709123_' 'MalaNieszawka_Poland_14th-15thcentury']\n",
      " ['unclassified-kra_ERR9709124_' 'MalaNieszawka_Poland_14th-15thcentury']\n",
      " ['unclassified-kra_ERR9709125_' 'MalaNieszawka_Poland_14th-15thcentury']\n",
      " ['unclassified-kra_ERR9709126_' 'MalaNieszawka_Poland_14th-15thcentury']\n",
      " ['unclassified-kra_ERR9709127_' 'MalaNieszawka_Poland_14th-15thcentury']\n",
      " ['unclassified-kra_ERR9709136_' 'Truso(JanówPomorski)_Poland_800-850CE']\n",
      " ['unclassified-kra_ERR9709137_' 'Truso(JanówPomorski)_Poland_800-850CE']\n",
      " ['unclassified-kra_ERR9709140_' 'Truso(JanówPomorski)_Poland_800-850CE']\n",
      " ['unclassified-kra_ERR9709141_' 'Truso(JanówPomorski)_Poland_800-850CE']\n",
      " ['unclassified-kra_ERR9709142_' 'Truso(JanówPomorski)_Poland_800-850CE']\n",
      " ['unclassified-kra_ERR9709144_' 'Truso(JanówPomorski)_Poland_800-850CE']\n",
      " ['unclassified-kra_ERR9709145_' 'Truso(JanówPomorski)_Poland_800-850CE']\n",
      " ['unclassified-kra_ERR9709146_' 'Truso(JanówPomorski)_Poland_800-850CE']\n",
      " ['unclassified-kra_ERR9709147_' 'Truso(JanówPomorski)_Poland_800-850CE']\n",
      " ['unclassified-kra_ERR9709149_' 'Truso(JanówPomorski)_Poland_800-850CE']\n",
      " ['unclassified-kra_ERR9709155_' 'Truso(JanówPomorski)_Poland_800-850CE']\n",
      " ['unclassified-kra_ERR9709158_' 'Truso(JanówPomorski)_Poland_800-850CE']\n",
      " ['unclassified-kra_ERR9709178_' 'KolowbrzwegBudzistowo_Poland_750-850CE']\n",
      " ['unclassified-kra_ERR9709187_' 'Selso-Vestby_Denmark_10thcentury']\n",
      " ['unclassified-kra_ERR9709190_' 'Selso-Vestby_Denmark_10th-11thcentury']\n",
      " ['unclassified-kra_ERR9709195_' 'Selso-Vestby_Denmark_1290-1380CE']\n",
      " ['unclassified-kra_ERR9709198_' 'Selso-Vestby_Denmark_1290-1380CE']\n",
      " ['unclassified-kra_ERR9709199_' 'Selso-Vestby_Denmark_1290-1380CE']\n",
      " ['unclassified-kra_ERR9709203_' 'Karmoy_Norway_2002']\n",
      " ['unclassified-kra_ERR9709204_' 'Karmoy_Norway_2002']\n",
      " ['unclassified-kra_ERR9709208_' 'More_Norway_2002']\n",
      " ['unclassified-kra_ERR9709209_' 'Risor_Norway_2003']\n",
      " ['unclassified-kra_ERR9709211_' 'Risor_Norway_2003']\n",
      " ['unclassified-kra_ERR9709214_' 'Måseskär_Sweden_2003']\n",
      " ['unclassified-kra_ERR9709217_' 'Kalix_Finland_2002']\n",
      " ['unclassified-kra_ERR9709218_' 'Kalix_Finland_2002']\n",
      " ['unclassified-kra_ERR9709219_' 'Kalmarsund_Sweden_2010']\n",
      " ['unclassified-kra_ERR9709223_' 'Idefjord-Inner_Norway_2010']\n",
      " ['unclassified-kra_ERR9709228_' 'Idefjord-Outer_Norway_2010']\n",
      " ['unclassified-kra_ERR9709232_' 'Måseskär_Sweden_2003']\n",
      " ['unclassified-kra_ERR9709234_' 'Måseskär_Sweden_2003']\n",
      " ['unclassified-kra_ERR9709235_' 'Risor_Norway_2003']\n",
      " ['unclassified-kra_ERR9709237_' 'Idefjord-Outer_Norway_2010']\n",
      " ['unclassified-kra_ERR9709238_' 'Idefjord-Outer_Norway_2010']\n",
      " ['unclassified-kra_ERR9709240_' 'Kalmarsund_Sweden_2010']\n",
      " ['unclassified-kra_ERR9709243_' 'Kalix_Finland_2002']\n",
      " ['unclassified-kra_ERR9709244_' 'Kalix_Finland_2002']\n",
      " ['unclassified-kra_ERR9709249_' 'Idefjord-Inner_Norway_2010']\n",
      " ['unclassified-kra_ERR9709253_' 'Risor_Norway_2003']\n",
      " ['unclassified-kra_SRR12106874_' 'NA']\n",
      " ['unclassified-kra_SRR12106875_' 'NA']\n",
      " ['unclassified-kra_SRR12106878_' 'NA']\n",
      " ['unclassified-kra_SRR12106882_' 'NA']\n",
      " ['unclassified-kra_SRR12106899_' 'NA']\n",
      " ['unclassified-kra_SRR12106905_' 'NA']\n",
      " ['unclassified-kra_SRR12106906_' 'NA']\n",
      " ['unclassified-kra_SRR12106915_' 'NA']\n",
      " ['unclassified-kra_SRR12106930_' 'NA']\n",
      " ['unclassified-kra_SRR12106932_' 'NA']\n",
      " ['unclassified-kra_SRR12106934_' 'NA']\n",
      " ['unclassified-kra_SRR12106937_' 'NA']\n",
      " ['unclassified-kra_SRR12106945_' 'NA']\n",
      " ['unclassified-kra_SRR12106949_' 'NA']\n",
      " ['unclassified-kra_SRR12106953_' 'NA']\n",
      " ['unclassified-kra_SRR12106955_' 'NA']\n",
      " ['unclassified-kra_SRR12106956_' 'NA']\n",
      " ['unclassified-kra_SRR12106957_' 'NA']]\n"
     ]
    }
   ],
   "source": [
    "dist_mat = np.genfromtxt(\"./data/Clupea_11jan24/11jan_jc_ref-dist-mat.txt.txt\", dtype=\"str\")\n",
    "annots = np.genfromtxt(\"./data/Clupea_11jan24/11jan_ClupeaAtmore_Fstannot.tsv\", dtype=\"str\")\n",
    "print(annots)\n",
    "# dist_mat = numpy.genfromtxt(\"/home/echarvel/Desktop/calab_data/code_bases/Skmer-2/fst_test_data/test_matrix.txt\", dtype=\"str\")\n",
    "# annots = numpy.genfromtxt(\"/home/echarvel/Desktop/calab_data/code_bases/Skmer-2/fst_test_data/test_annots.txt\", dtype=\"str\")"
   ]
  },
  {
   "cell_type": "code",
   "execution_count": 22,
   "metadata": {},
   "outputs": [],
   "source": [
    "for line in annots:\n",
    "    x = np.where(dist_mat == line[0])\n",
    "    for index in x: \n",
    "        try:\n",
    "            dist_mat[index[0]][index[1]] = line[1]\n",
    "        except: pass"
   ]
  },
  {
   "cell_type": "code",
   "execution_count": 23,
   "metadata": {},
   "outputs": [],
   "source": [
    "dist_dict = dict()\n",
    "\n",
    "for num1 in range(1, len(dist_mat[0])):\n",
    "    for num2 in range(1, len(dist_mat[0])):\n",
    "        if num1 != num2: \n",
    "            name1=dist_mat[0][num1]\n",
    "            name2=dist_mat[0][num2]\n",
    "            if name1 not in dist_dict:\n",
    "                dist_dict[name1] = dict()\n",
    "\n",
    "            if name2 not in dist_dict[name1]:\n",
    "                dist_dict[name1][name2] = [float(dist_mat[num1, num2])]\n",
    "            else: \n",
    "                dist_dict[name1][name2].append(float(dist_mat[num1, num2]))\n",
    "        if num1 == num2:\n",
    "            name1=name2=dist_mat[0][num1]\n",
    "            \n",
    "            if name1 not in dist_dict:\n",
    "                dist_dict[name1] = dict()\n",
    "\n",
    "            if name2 not in dist_dict[name1]:\n",
    "                dist_dict[name1][name2] = []\n",
    "\n",
    "key_list = list(dist_dict.keys())"
   ]
  },
  {
   "cell_type": "code",
   "execution_count": 24,
   "metadata": {},
   "outputs": [],
   "source": [
    "def make_empty_matrix(dist_dict, key_list):\n",
    "    matrix = [[0 for x in range(0, len(dist_dict)+1)] for x in range(0, len(dist_dict)+1)]\n",
    "    matrix[0][0]=\"sample\"\n",
    "    for x in range(0, len(dist_dict)):\n",
    "        matrix[0][x+1] = matrix[x+1][0] = (key_list[x])\n",
    "    return matrix\n",
    "\n",
    "def calculate_WC_FST(F1, F2, M):\n",
    "    numerator_wc_fst = F1 + F2\n",
    "    denominator_wc_fst = F1 + F2 + 2 * (1 / (M + 1)) * (M * (1 - F1) + (1 - F2))\n",
    "    WC_FST = numerator_wc_fst / denominator_wc_fst\n",
    "    return WC_FST\n",
    "\n",
    "def calculate_Nei_FST(F1, F2):\n",
    "    numerator_nei_fst = F1 + F2\n",
    "    denominator_nei_fst = 2 - ((F1 + F2) / 2)\n",
    "    Nei_FST = numerator_nei_fst / denominator_nei_fst\n",
    "    return Nei_FST\n",
    "\n",
    "def calculate_Hudson_FST(F1, F2):\n",
    "    Hudson_FST = (F1 + F2) / 2\n",
    "    return Hudson_FST"
   ]
  },
  {
   "cell_type": "code",
   "execution_count": 25,
   "metadata": {},
   "outputs": [],
   "source": [
    "F_mtrx = make_empty_matrix(dist_dict, key_list)\n",
    "wh_fst_mtrx = make_empty_matrix(dist_dict, key_list)\n",
    "wc_fst_mtrx = make_empty_matrix(dist_dict, key_list)\n",
    "nei_fst_mtrx = make_empty_matrix(dist_dict, key_list)\n",
    "hud_fst_mtrx = make_empty_matrix(dist_dict, key_list)\n",
    "clade_dist_mtrx = make_empty_matrix(dist_dict, key_list)\n",
    "thetas_list = [[key,0.0] for key in key_list]"
   ]
  },
  {
   "cell_type": "code",
   "execution_count": 26,
   "metadata": {},
   "outputs": [
    {
     "name": "stdout",
     "output_type": "stream",
     "text": [
      "[['sample', 'NA', 'Giecz_Poland_9th-13thcentury', 'MalaNieszawka_Poland_14th-15t', 'Truso(JanówPomorski)_Poland_8', 'KolowbrzwegBudzistowo_Poland_', 'Selso-Vestby_Denmark_10thcent', 'Selso-Vestby_Denmark_10th-11t', 'Selso-Vestby_Denmark_1290-138', 'Karmoy_Norway_2002', 'More_Norway_2002', 'Risor_Norway_2003', 'Måseskär_Sweden_2003', 'Kalix_Finland_2002', 'Kalmarsund_Sweden_2010', 'Idefjord-Inner_Norway_2010', 'Idefjord-Outer_Norway_2010'], ['NA', 0, 0.60695, 0.75046, 0.61354, 'NA', 'NA', 'NA', 0.81353, 0.9281, 'NA', 0.96023, 0.96163, 0.95143, 0.95053, 0.95443, 1.02053], ['Giecz_Poland_9th-13thcentury', 0.60695, 0, 0.75055, 0.62321, 'NA', 'NA', 'NA', 0.79406, 0.40944, 'NA', 0.45538, 0.40887, 0.45759, 0.45795, 0.42235, 0.50544], ['MalaNieszawka_Poland_14th-15t', 0.75046, 0.75055, 0, 0.76222, 'NA', 'NA', 'NA', 0.95419, 0.71174, 'NA', 0.72327, 0.7084, 0.72656, 0.72811, 0.71478, 0.7153], ['Truso(JanówPomorski)_Poland_8', 0.61354, 0.62321, 0.76222, 0, 'NA', 'NA', 'NA', 0.79335, 0.55337, 'NA', 0.56764, 0.55382, 0.5683, 0.5692, 0.55869, 0.58161], ['KolowbrzwegBudzistowo_Poland_', 'NA', 'NA', 'NA', 'NA', 0, 'NA', 'NA', 'NA', 'NA', 'NA', 'NA', 'NA', 'NA', 'NA', 'NA', 'NA'], ['Selso-Vestby_Denmark_10thcent', 'NA', 'NA', 'NA', 'NA', 'NA', 0, 'NA', 'NA', 'NA', 'NA', 'NA', 'NA', 'NA', 'NA', 'NA', 'NA'], ['Selso-Vestby_Denmark_10th-11t', 'NA', 'NA', 'NA', 'NA', 'NA', 'NA', 0, 'NA', 'NA', 'NA', 'NA', 'NA', 'NA', 'NA', 'NA', 'NA'], ['Selso-Vestby_Denmark_1290-138', 0.81353, 0.79406, 0.95419, 0.79335, 'NA', 'NA', 'NA', 0, 0.78672, 'NA', 0.79372, 0.78534, 0.7931, 0.79692, 0.79158, 0.78607], ['Karmoy_Norway_2002', 0.9281, 0.40944, 0.71174, 0.55337, 'NA', 'NA', 'NA', 0.78672, 0, 'NA', 0.97615, 0.853, 0.92829, 0.94738, 1.00204, 0.98452], ['More_Norway_2002', 'NA', 'NA', 'NA', 'NA', 'NA', 'NA', 'NA', 'NA', 'NA', 0, 'NA', 'NA', 'NA', 'NA', 'NA', 'NA'], ['Risor_Norway_2003', 0.96023, 0.45538, 0.72327, 0.56764, 'NA', 'NA', 'NA', 0.79372, 0.97615, 'NA', 0, 1.00491, 0.98189, 0.99066, 0.99196, 1.00501], ['Måseskär_Sweden_2003', 0.96163, 0.40887, 0.7084, 0.55382, 'NA', 'NA', 'NA', 0.78534, 0.853, 'NA', 1.00491, 0, 0.94452, 0.95903, 0.93162, 1.05431], ['Kalix_Finland_2002', 0.95143, 0.45759, 0.72656, 0.5683, 'NA', 'NA', 'NA', 0.7931, 0.92829, 'NA', 0.98189, 0.94452, 0, 1.00026, 0.94542, 0.98125], ['Kalmarsund_Sweden_2010', 0.95053, 0.45795, 0.72811, 0.5692, 'NA', 'NA', 'NA', 0.79692, 0.94738, 'NA', 0.99066, 0.95903, 1.00026, 0, 0.96983, 0.98488], ['Idefjord-Inner_Norway_2010', 0.95443, 0.42235, 0.71478, 0.55869, 'NA', 'NA', 'NA', 0.79158, 1.00204, 'NA', 0.99196, 0.93162, 0.94542, 0.96983, 0, 1.02122], ['Idefjord-Outer_Norway_2010', 1.02053, 0.50544, 0.7153, 0.58161, 'NA', 'NA', 'NA', 0.78607, 0.98452, 'NA', 1.00501, 1.05431, 0.98125, 0.98488, 1.02122, 0]]\n"
     ]
    }
   ],
   "source": [
    "for key1, index1 in zip(key_list, range(len(key_list))):\n",
    "     for key2, index2 in zip(key_list, range(len(key_list))):\n",
    "        if key1 == key2:\n",
    "            break\n",
    "        else:\n",
    "            dist_array_k1_k1 = dist_dict[key1][key1]\n",
    "            dist_array_k2_k2 = dist_dict[key2][key2]\n",
    "            dist_array_k1_k2 = dist_dict[key1][key2]\n",
    "\n",
    "            across_k1_k2 = sum(dist_array_k1_k2)/len(dist_array_k1_k2)\n",
    "\n",
    "            max_k1_k1 = max(dist_array_k1_k1) if (len(dist_array_k1_k1) != 0) else 0\n",
    "            max_k2_k2 = max(dist_array_k1_k1) if (len(dist_array_k1_k1) != 0) else 0\n",
    "            max_k1_k2 = max(dist_array_k1_k2) \n",
    "\n",
    "            clade_dist_mtrx[index1+1][index2+1] = clade_dist_mtrx[index2+1][index1+1] = max_k1_k2 - (max_k1_k1 + max_k2_k2)/2\n",
    " \n",
    "            if ((len(dist_array_k1_k1) == 0) or len(dist_array_k2_k2) == 0):\n",
    "                # Checks if any of the populations only have one members.\n",
    "                # Calculates F1 or F2 if possible. If not, assigns \"NA\". \n",
    "                # Assigns \"NA\" to all other Fst calculations.\n",
    "                if (len(dist_array_k1_k1) != 0):\n",
    "                    within_k1 = sum(dist_array_k1_k1)/len(dist_array_k1_k1)\n",
    "                    F1 = within_k1/across_k1_k2\n",
    "                    thetas_list[index1] = round(within_k1, 5)\n",
    "                    F_mtrx[index1+1][index2+1] = round(F1, 5)\n",
    "                    F_mtrx[index2+1][index1+1] = \"NA\"\n",
    "                elif (len(dist_array_k2_k2) != 0):\n",
    "                    within_k2 = sum(dist_array_k2_k2)/len(dist_array_k2_k2)\n",
    "                    F2 = within_k2/across_k1_k2\n",
    "                    thetas_list[index1] = \"NA\"\n",
    "                    F_mtrx[index1+1][index2+1] = \"NA\"\n",
    "                    F_mtrx[index2+1][index1+1] = round(F2, 5)\n",
    "                    \n",
    "                else:\n",
    "                    F_mtrx[index1+1][index2+1] = F_mtrx[index2+1][index1+1] =\"NA\"\n",
    "\n",
    "                wh_fst_mtrx[index1+1][index2+1] = wh_fst_mtrx[index2+1][index1+1] = \"NA\"\n",
    "                wc_fst_mtrx[index1+1][index2+1] = wc_fst_mtrx[index2+1][index1+1] = \"NA\"\n",
    "                nei_fst_mtrx[index1+1][index2+1] = nei_fst_mtrx[index2+1][index1+1] = \"NA\"\n",
    "                hud_fst_mtrx[index1+1][index2+1] = hud_fst_mtrx[index2+1][index1+1] = \"NA\"\n",
    "            else:\n",
    "                within_k1 = sum(dist_array_k1_k1)/len(dist_array_k1_k1)\n",
    "                within_k2 = sum(dist_array_k2_k2)/len(dist_array_k2_k2)\n",
    "\n",
    "                F1 = within_k1/across_k1_k2\n",
    "                F2 = within_k2/across_k1_k2\n",
    "\n",
    "                if len(dist_array_k1_k1) <= len(dist_array_k2_k2):\n",
    "                    M=len(dist_array_k1_k1)/len(dist_array_k2_k2)\n",
    "                else:\n",
    "                    M=len(dist_array_k2_k2)/len(dist_array_k1_k1)\n",
    "\n",
    "                thetas_list[index1] = round(within_k1, 5)\n",
    "                # NOTE: F_matrix contains F1 in the lower half and F2 in the upper half. \n",
    "                F_mtrx[index1+1][index2+1] =  round(F1, 5)\n",
    "                F_mtrx[index2+1][index1+1] =  round(F2, 5)\n",
    "                wh_fst_mtrx[index1+1][index2+1] = wh_fst_mtrx[index2+1][index1+1] = round((F1 + F2)/2, 5)\n",
    "                wc_fst_mtrx[index1+1][index2+1] = wc_fst_mtrx[index2+1][index1+1] = round(calculate_WC_FST(F1, F2, M), 5)\n",
    "                nei_fst_mtrx[index1+1][index2+1] = nei_fst_mtrx[index2+1][index1+1] = round(calculate_Nei_FST(F1, F2), 5)\n",
    "                hud_fst_mtrx[index1+1][index2+1] = hud_fst_mtrx[index2+1][index1+1] =  round(calculate_Hudson_FST(F1, F2), 5)\n",
    "print(wh_fst_mtrx)"
   ]
  },
  {
   "cell_type": "code",
   "execution_count": 27,
   "metadata": {},
   "outputs": [
    {
     "ename": "ValueError",
     "evalue": "setting an array element with a sequence. The requested array has an inhomogeneous shape after 1 dimensions. The detected shape was (16,) + inhomogeneous part.",
     "output_type": "error",
     "traceback": [
      "\u001b[0;31m---------------------------------------------------------------------------\u001b[0m",
      "\u001b[0;31mValueError\u001b[0m                                Traceback (most recent call last)",
      "\u001b[1;32m/Users/sjr729/Desktop/GitHub/Skmer-2/fst_calculator Homere.ipynb Cell 9\u001b[0m line \u001b[0;36m1\n\u001b[0;32m----> <a href='vscode-notebook-cell:/Users/sjr729/Desktop/GitHub/Skmer-2/fst_calculator%20Homere.ipynb#X11sZmlsZQ%3D%3D?line=0'>1</a>\u001b[0m np\u001b[39m.\u001b[39msavetxt(\u001b[39m\"\u001b[39m\u001b[39m./testClupeaAtmore/11jan_ClupeaAtmore_theta_list_genu_nas.txt\u001b[39m\u001b[39m\"\u001b[39m, np\u001b[39m.\u001b[39;49mmatrix(thetas_list), fmt\u001b[39m=\u001b[39m\u001b[39m\"\u001b[39m\u001b[39m%s\u001b[39;00m\u001b[39m\"\u001b[39m, delimiter\u001b[39m=\u001b[39m\u001b[39m\"\u001b[39m\u001b[39m\\t\u001b[39;00m\u001b[39m\"\u001b[39m)\n\u001b[1;32m      <a href='vscode-notebook-cell:/Users/sjr729/Desktop/GitHub/Skmer-2/fst_calculator%20Homere.ipynb#X11sZmlsZQ%3D%3D?line=1'>2</a>\u001b[0m np\u001b[39m.\u001b[39msavetxt(\u001b[39m\"\u001b[39m\u001b[39m./testClupeaAtmore/11jan_ClupeaAtmore_F_mat_genu_nas.txt\u001b[39m\u001b[39m\"\u001b[39m, np\u001b[39m.\u001b[39mmatrix(F_mtrx), fmt\u001b[39m=\u001b[39m\u001b[39m\"\u001b[39m\u001b[39m%s\u001b[39;00m\u001b[39m\"\u001b[39m, delimiter\u001b[39m=\u001b[39m\u001b[39m\"\u001b[39m\u001b[39m\\t\u001b[39;00m\u001b[39m\"\u001b[39m)\n\u001b[1;32m      <a href='vscode-notebook-cell:/Users/sjr729/Desktop/GitHub/Skmer-2/fst_calculator%20Homere.ipynb#X11sZmlsZQ%3D%3D?line=2'>3</a>\u001b[0m np\u001b[39m.\u001b[39msavetxt(\u001b[39m\"\u001b[39m\u001b[39m./testClupeaAtmore/11jan_ClupeaAtmore_wh_fst_mat_genu_nas.txt\u001b[39m\u001b[39m\"\u001b[39m, np\u001b[39m.\u001b[39mmatrix(wh_fst_mtrx), fmt\u001b[39m=\u001b[39m\u001b[39m\"\u001b[39m\u001b[39m%s\u001b[39;00m\u001b[39m\"\u001b[39m, delimiter\u001b[39m=\u001b[39m\u001b[39m\"\u001b[39m\u001b[39m\\t\u001b[39;00m\u001b[39m\"\u001b[39m)\n",
      "File \u001b[0;32m~/Library/Python/3.9/lib/python/site-packages/numpy/matrixlib/defmatrix.py:146\u001b[0m, in \u001b[0;36mmatrix.__new__\u001b[0;34m(subtype, data, dtype, copy)\u001b[0m\n\u001b[1;32m    143\u001b[0m     data \u001b[39m=\u001b[39m _convert_from_string(data)\n\u001b[1;32m    145\u001b[0m \u001b[39m# now convert data to an array\u001b[39;00m\n\u001b[0;32m--> 146\u001b[0m arr \u001b[39m=\u001b[39m N\u001b[39m.\u001b[39;49marray(data, dtype\u001b[39m=\u001b[39;49mdtype, copy\u001b[39m=\u001b[39;49mcopy)\n\u001b[1;32m    147\u001b[0m ndim \u001b[39m=\u001b[39m arr\u001b[39m.\u001b[39mndim\n\u001b[1;32m    148\u001b[0m shape \u001b[39m=\u001b[39m arr\u001b[39m.\u001b[39mshape\n",
      "\u001b[0;31mValueError\u001b[0m: setting an array element with a sequence. The requested array has an inhomogeneous shape after 1 dimensions. The detected shape was (16,) + inhomogeneous part."
     ]
    }
   ],
   "source": [
    "np.savetxt(\"./testClupeaAtmore/11jan_ClupeaAtmore_theta_list_genu_nas.txt\", np.matrix(thetas_list), fmt=\"%s\", delimiter=\"\\t\")\n",
    "np.savetxt(\"./testClupeaAtmore/11jan_ClupeaAtmore_F_mat_genu_nas.txt\", np.matrix(F_mtrx), fmt=\"%s\", delimiter=\"\\t\")\n",
    "np.savetxt(\"./testClupeaAtmore/11jan_ClupeaAtmore_wh_fst_mat_genu_nas.txt\", np.matrix(wh_fst_mtrx), fmt=\"%s\", delimiter=\"\\t\")\n",
    "np.savetxt(\"./testClupeaAtmore/11jan_ClupeaAtmore_wc_fst_mat_genu_nas.txt\", np.matrix(wc_fst_mtrx), fmt=\"%s\", delimiter=\"\\t\")\n",
    "np.savetxt(\"./testClupeaAtmore/11jan_ClupeaAtmore_nei_fst_mat_genu_nas.txt\", np.matrix(nei_fst_mtrx), fmt=\"%s\", delimiter=\"\\t\")\n",
    "np.savetxt(\"./testClupeaAtmore/11jan_ClupeaAtmore_hud_fst_mat_genu_nas.txt\", np.matrix(hud_fst_mtrx), fmt=\"%s\", delimiter=\"\\t\")\n",
    "np.savetxt(\"./testClupeaAtmore/11jan_ClupeaAtmore_clade_dist_mat_genu_nas.txt\", np.matrix(clade_dist_mtrx), fmt=\"%s\", delimiter=\"\\t\")"
   ]
  },
  {
   "cell_type": "code",
   "execution_count": null,
   "metadata": {},
   "outputs": [],
   "source": []
  }
 ],
 "metadata": {
  "kernelspec": {
   "display_name": "data_science",
   "language": "python",
   "name": "python3"
  },
  "language_info": {
   "codemirror_mode": {
    "name": "ipython",
    "version": 3
   },
   "file_extension": ".py",
   "mimetype": "text/x-python",
   "name": "python",
   "nbconvert_exporter": "python",
   "pygments_lexer": "ipython3",
   "version": "3.9.6"
  },
  "orig_nbformat": 4
 },
 "nbformat": 4,
 "nbformat_minor": 2
}
