{
 "cells": [
  {
   "cell_type": "code",
   "execution_count": 11,
   "metadata": {},
   "outputs": [],
   "source": [
    "# 1. Read the ref-dist-mat into numpy for array\n",
    "# 2. Replace array names with annotations\n",
    "# 3. Double for loop to calculate F1 and F2\n",
    "# 4. Use F measuremnts to calculated M and FST measures"
   ]
  },
  {
   "cell_type": "code",
   "execution_count": 24,
   "metadata": {},
   "outputs": [],
   "source": [
    "import numpy as np"
   ]
  },
  {
   "cell_type": "code",
   "execution_count": 27,
   "metadata": {},
   "outputs": [],
   "source": [
    "dist_mat = np.genfromtxt(\"./with_fam_nas/ref-dist-mat.txt\", dtype=\"str\")\n",
    "annots = np.genfromtxt(\"./with_fam_nas/geno_fam_annotation.tsv\", dtype=\"str\")\n",
    "\n",
    "# dist_mat = numpy.genfromtxt(\"/home/echarvel/Desktop/calab_data/code_bases/Skmer-2/fst_test_data/test_matrix.txt\", dtype=\"str\")\n",
    "# annots = numpy.genfromtxt(\"/home/echarvel/Desktop/calab_data/code_bases/Skmer-2/fst_test_data/test_annots.txt\", dtype=\"str\")"
   ]
  },
  {
   "cell_type": "code",
   "execution_count": 28,
   "metadata": {},
   "outputs": [],
   "source": [
    "for line in annots:\n",
    "    x = np.where(dist_mat == line[0])\n",
    "    for index in x: \n",
    "        try:\n",
    "            dist_mat[index[0]][index[1]] = line[1]\n",
    "        except: pass"
   ]
  },
  {
   "cell_type": "code",
   "execution_count": 29,
   "metadata": {},
   "outputs": [],
   "source": [
    "dist_dict = dict()\n",
    "\n",
    "for num1 in range(1, len(dist_mat[0])):\n",
    "    for num2 in range(1, len(dist_mat[0])):\n",
    "        if num1 != num2: \n",
    "            name1=dist_mat[0][num1]\n",
    "            name2=dist_mat[0][num2]\n",
    "            if name1 not in dist_dict:\n",
    "                dist_dict[name1] = dict()\n",
    "\n",
    "            if name2 not in dist_dict[name1]:\n",
    "                dist_dict[name1][name2] = [float(dist_mat[num1, num2])]\n",
    "            else: \n",
    "                dist_dict[name1][name2].append(float(dist_mat[num1, num2]))\n",
    "        if num1 == num2:\n",
    "            name1=name2=dist_mat[0][num1]\n",
    "            \n",
    "            if name1 not in dist_dict:\n",
    "                dist_dict[name1] = dict()\n",
    "\n",
    "            if name2 not in dist_dict[name1]:\n",
    "                dist_dict[name1][name2] = []\n",
    "\n",
    "key_list = list(dist_dict.keys())"
   ]
  },
  {
   "cell_type": "code",
   "execution_count": 30,
   "metadata": {},
   "outputs": [],
   "source": [
    "def make_empty_matrix(dist_dict, key_list):\n",
    "    matrix = [[0 for x in range(0, len(dist_dict)+1)] for x in range(0, len(dist_dict)+1)]\n",
    "    matrix[0][0]=\"sample\"\n",
    "    for x in range(0, len(dist_dict)):\n",
    "        matrix[0][x+1] = matrix[x+1][0] = (key_list[x])\n",
    "    return matrix\n",
    "\n",
    "def calculate_WC_FST(F1, F2, M):\n",
    "    numerator_wc_fst = F1 + F2\n",
    "    denominator_wc_fst = F1 + F2 + 2 * (1 / (M + 1)) * (M * (1 - F1) + (1 - F2))\n",
    "    WC_FST = numerator_wc_fst / denominator_wc_fst\n",
    "    return WC_FST\n",
    "\n",
    "def calculate_Nei_FST(F1, F2):\n",
    "    numerator_nei_fst = F1 + F2\n",
    "    denominator_nei_fst = 2 - ((F1 + F2) / 2)\n",
    "    Nei_FST = numerator_nei_fst / denominator_nei_fst\n",
    "    return Nei_FST\n",
    "\n",
    "def calculate_Hudson_FST(F1, F2):\n",
    "    Hudson_FST = (F1 + F2) / 2\n",
    "    return Hudson_FST"
   ]
  },
  {
   "cell_type": "code",
   "execution_count": 33,
   "metadata": {},
   "outputs": [],
   "source": [
    "F_mtrx = make_empty_matrix(dist_dict, key_list)\n",
    "wh_fst_mtrx = make_empty_matrix(dist_dict, key_list)\n",
    "wc_fst_mtrx = make_empty_matrix(dist_dict, key_list)\n",
    "nei_fst_mtrx = make_empty_matrix(dist_dict, key_list)\n",
    "hud_fst_mtrx = make_empty_matrix(dist_dict, key_list)\n",
    "clade_dist_mtrx = make_empty_matrix(dist_dict, key_list)\n",
    "thetas_list = [[key,0.0] for key in key_list]"
   ]
  },
  {
   "cell_type": "code",
   "execution_count": 36,
   "metadata": {},
   "outputs": [
    {
     "name": "stdout",
     "output_type": "stream",
     "text": [
      "[['sample', 'Pteromalidae', 'Formicidae', 'Halictidae', 'Apidae', 'Braconidae', 'Diprionidae', 'Figitidae', 'Bethylidae', 'Ichneumonidae', 'Cynipidae', 'Vespidae', 'Eupelmidae', 'Tenthredinidae', 'Dryinidae', 'Agaonidae', 'Eurytomidae', 'Ampulicidae', 'Scelionidae', 'Aphelinidae', 'Megachilidae', 'Mymaridae', 'Platygastridae', 'Trichogrammatidae', 'Eulophidae', 'Papilionidae', 'Andrenidae', 'Colletidae', 'Cephidae', 'Diapriidae', 'Encyrtidae', 'Torymidae', 'Ormyridae', 'Megastigmidae', 'Crabronidae', 'Pompilidae', 'Melittidae', 'Athaliidae', 'Tiphiidae', 'Gasteruptiidae', 'Chalcididae', 'Orussidae'], ['Pteromalidae', 0, 0.57121, 0.42272, 0.4895, 0.74948, 0.35063, 0.49631, 0.74006, 0.63728, 0.69078, 0.53811, 0.62484, 0.48138, 'NA', 0.76106, 0.58531, 'NA', 0.62126, 0.74145, 0.43893, 'NA', 0.60443, 0.59015, 0.70865, 'NA', 0.38493, 0.42421, 0.41906, 0.62474, 0.77185, 0.53485, 0.45875, 0.49416, 0.32396, 0.30926, 'NA', 0.29391, 0.30229, 0.2989, 0.3782, 'NA'], ['Formicidae', 0.57121, 0, 0.53843, 0.58339, 0.77117, 0.34359, 0.48452, 0.79641, 0.65473, 0.70809, 0.57944, 0.4932, 0.47794, 'NA', 0.66134, 0.44797, 'NA', 0.63263, 0.67616, 0.53062, 'NA', 0.6244, 0.53699, 0.6263, 'NA', 0.45136, 0.51809, 0.43579, 0.59834, 0.69325, 0.41456, 0.35021, 0.38154, 0.50112, 0.34819, 'NA', 0.2907, 0.34091, 0.29684, 0.31929, 'NA'], ['Halictidae', 0.42272, 0.53843, 0, 0.62462, 0.68132, 0.25893, 0.30727, 0.68375, 0.53917, 0.53486, 0.46675, 0.35745, 0.38879, 'NA', 0.52129, 0.36316, 'NA', 0.47149, 0.38538, 0.54917, 'NA', 0.43727, 0.44434, 0.52896, 'NA', 0.46649, 0.5756, 0.35023, 0.37399, 0.57684, 0.24487, 0.26618, 0.29486, 0.68635, 0.25866, 'NA', 0.21008, 0.25484, 0.21927, 0.22424, 'NA'], ['Apidae', 0.4895, 0.58339, 0.62462, 0, 0.7274, 0.31219, 0.41816, 0.75347, 0.59304, 0.63468, 0.54241, 0.38113, 0.45435, 'NA', 0.56032, 0.37412, 'NA', 0.54586, 0.53131, 0.66516, 'NA', 0.53774, 0.46883, 0.52301, 'NA', 0.53516, 0.63079, 0.40971, 0.46688, 0.56029, 0.31433, 0.31838, 0.28747, 0.76022, 0.32097, 'NA', 0.26858, 0.31279, 0.2701, 0.25371, 'NA'], ['Braconidae', 0.74948, 0.77117, 0.68132, 0.7274, 0, 0.62782, 0.72656, 0.87321, 0.85252, 0.78658, 0.75379, 0.7045, 0.73218, 'NA', 0.83491, 0.72867, 'NA', 0.89835, 0.81112, 0.7164, 'NA', 0.80451, 0.73309, 0.77058, 'NA', 0.6278, 0.68273, 0.71424, 0.77357, 0.82534, 0.64567, 0.6081, 0.6136, 0.43561, 0.58296, 'NA', 0.59529, 0.57084, 0.59278, 0.60966, 'NA'], ['Diprionidae', 0.35063, 0.34359, 0.25893, 0.31219, 0.62782, 0, 0.28638, 0.50463, 0.43845, 0.57675, 0.30066, 0.28867, 0.4157, 'NA', 0.45159, 0.24959, 'NA', 0.44114, 0.47398, 0.23948, 'NA', 0.42437, 0.3401, 0.41559, 'NA', 0.18102, 0.2294, 0.21608, 0.38505, 0.48741, 0.20746, 0.14054, 0.17243, 0.40989, 0.08888, 'NA', 0.13727, 0.08192, 0.09307, 0.10223, 'NA'], ['Figitidae', 0.49631, 0.48452, 0.30727, 0.41816, 0.72656, 0.28638, 0, 0.64545, 0.57813, 0.73953, 0.4517, 0.43454, 0.4315, 'NA', 0.58046, 0.39786, 'NA', 0.60073, 0.60158, 0.39886, 'NA', 0.56916, 0.476, 0.53689, 'NA', 0.32926, 0.37802, 0.35433, 0.57503, 0.61577, 0.35508, 0.28343, 0.31634, 0.26439, 0.23357, 'NA', 0.23747, 0.23141, 0.23611, 0.2595, 'NA'], ['Bethylidae', 0.74006, 0.79641, 0.68375, 0.75347, 0.87321, 0.50463, 0.64545, 0, 0.82523, 0.76275, 0.75447, 0.6465, 0.63804, 'NA', 0.82399, 0.5945, 'NA', 0.77304, 0.81418, 0.67978, 'NA', 0.74816, 0.69893, 0.8138, 'NA', 0.59377, 0.65594, 0.61132, 0.71372, 0.83177, 0.56362, 0.52537, 0.55503, 0.40842, 0.52021, 'NA', 0.45749, 0.51351, 0.4689, 0.48575, 'NA'], ['Ichneumonidae', 0.63728, 0.65473, 0.53917, 0.59304, 0.85252, 0.43845, 0.57813, 0.82523, 0, 0.73775, 0.62613, 0.56837, 0.57958, 'NA', 0.72615, 0.52091, 'NA', 0.68895, 0.73415, 0.53905, 'NA', 0.69018, 0.55645, 0.69031, 'NA', 0.46305, 0.52122, 0.52883, 0.67797, 0.75797, 0.49144, 0.42621, 0.46017, 0.47703, 0.39408, 'NA', 0.37726, 0.38399, 0.38177, 0.4094, 'NA'], ['Cynipidae', 0.69078, 0.70809, 0.53486, 0.63468, 0.78658, 0.57675, 0.73953, 0.76275, 0.73775, 0, 0.67082, 0.65779, 0.65438, 'NA', 0.75864, 0.74435, 'NA', 0.83952, 0.7356, 0.68428, 'NA', 0.73577, 0.66264, 0.70967, 'NA', 0.55324, 0.63582, 0.66547, 0.72534, 0.74579, 0.61407, 0.58542, 0.60534, 0.37849, 0.56204, 'NA', 0.5397, 0.55762, 0.55136, 0.57218, 'NA'], ['Vespidae', 0.53811, 0.57944, 0.46675, 0.54241, 0.75379, 0.30066, 0.4517, 0.75447, 0.62613, 0.67082, 0, 0.45791, 0.462, 'NA', 0.65189, 0.3984, 'NA', 0.60055, 0.6371, 0.45956, 'NA', 0.59384, 0.51207, 0.60442, 'NA', 0.37591, 0.43841, 0.37648, 0.55848, 0.67589, 0.37035, 0.29244, 0.33975, 0.55289, 0.27096, 'NA', 0.24826, 0.26671, 0.24524, 0.2758, 'NA'], ['Eupelmidae', 0.62484, 0.4932, 0.35745, 0.38113, 0.7045, 0.28867, 0.43454, 0.6465, 0.56837, 0.65779, 0.45791, 0, 0.42684, 'NA', 0.6718, 0.51028, 'NA', 0.55599, 0.66639, 0.37989, 'NA', 0.54295, 0.51145, 0.62167, 'NA', 0.32357, 0.37092, 0.35131, 0.55648, 0.68746, 0.45192, 0.37512, 0.41386, 0.19251, 0.23739, 'NA', 0.23632, 0.23449, 0.2371, 0.30776, 'NA'], ['Tenthredinidae', 0.48138, 0.47794, 0.38879, 0.45435, 0.73218, 0.4157, 0.4315, 0.63804, 0.57958, 0.65438, 0.462, 0.42684, 0, 'NA', 0.58406, 0.37662, 'NA', 0.57222, 0.58738, 0.3766, 'NA', 0.55767, 0.47376, 0.53387, 'NA', 0.31518, 0.36399, 0.37889, 0.52159, 0.61646, 0.34319, 0.27981, 0.30457, 0.5401, 0.22889, 'NA', 0.36396, 0.21868, 0.23957, 0.26136, 'NA'], ['Dryinidae', 'NA', 'NA', 'NA', 'NA', 'NA', 'NA', 'NA', 'NA', 'NA', 'NA', 'NA', 'NA', 'NA', 0, 'NA', 'NA', 'NA', 'NA', 'NA', 'NA', 'NA', 'NA', 'NA', 'NA', 'NA', 'NA', 'NA', 'NA', 'NA', 'NA', 'NA', 'NA', 'NA', 'NA', 'NA', 'NA', 'NA', 'NA', 'NA', 'NA', 'NA'], ['Agaonidae', 0.76106, 0.66134, 0.52129, 0.56032, 0.83491, 0.45159, 0.58046, 0.82399, 0.72615, 0.75864, 0.65189, 0.6718, 0.58406, 'NA', 0, 0.63668, 'NA', 0.70312, 0.80432, 0.51796, 'NA', 0.68945, 0.6757, 0.7792, 'NA', 0.46632, 0.50657, 0.49773, 0.70588, 0.83929, 0.59609, 0.52146, 0.56751, 0.34391, 0.39993, 'NA', 0.3935, 0.39152, 0.39951, 0.48368, 'NA'], ['Eurytomidae', 0.58531, 0.44797, 0.36316, 0.37412, 0.72867, 0.24959, 0.39786, 0.5945, 0.52091, 0.74435, 0.3984, 0.51028, 0.37662, 'NA', 0.63668, 0, 'NA', 0.53192, 0.62325, 0.35347, 'NA', 0.51731, 0.4784, 0.57806, 'NA', 0.29302, 0.33837, 0.31335, 0.53164, 0.65099, 0.42528, 0.37721, 0.373, 0.23221, 0.21016, 'NA', 0.19953, 0.20295, 0.20742, 0.27156, 'NA'], ['Ampulicidae', 'NA', 'NA', 'NA', 'NA', 'NA', 'NA', 'NA', 'NA', 'NA', 'NA', 'NA', 'NA', 'NA', 'NA', 'NA', 'NA', 0, 'NA', 'NA', 'NA', 'NA', 'NA', 'NA', 'NA', 'NA', 'NA', 'NA', 'NA', 'NA', 'NA', 'NA', 'NA', 'NA', 'NA', 'NA', 'NA', 'NA', 'NA', 'NA', 'NA', 'NA'], ['Scelionidae', 0.62126, 0.63263, 0.47149, 0.54586, 0.89835, 0.44114, 0.60073, 0.77304, 0.68895, 0.83952, 0.60055, 0.55599, 0.57222, 'NA', 0.70312, 0.53192, 'NA', 0, 0.62463, 0.5275, 'NA', 0.76873, 0.5997, 0.66096, 'NA', 0.38568, 0.525, 0.51729, 0.67897, 0.72689, 0.48752, 0.43258, 0.38578, 0.31536, 0.39297, 'NA', 0.40371, 0.38348, 0.39471, 0.43073, 'NA'], ['Aphelinidae', 0.74145, 0.67616, 0.38538, 0.53131, 0.81112, 0.47398, 0.60158, 0.81418, 0.73415, 0.7356, 0.6371, 0.66639, 0.58738, 'NA', 0.80432, 0.62325, 'NA', 0.62463, 0, 0.54496, 'NA', 0.70219, 0.68732, 0.7638, 'NA', 0.4978, 0.54503, 0.5194, 0.71476, 0.84752, 0.59553, 0.52762, 0.5627, 0.25599, 0.42631, 'NA', 0.41933, 0.41913, 0.41565, 0.48577, 'NA'], ['Megachilidae', 0.43893, 0.53062, 0.54917, 0.66516, 0.7164, 0.23948, 0.39886, 0.67978, 0.53905, 0.68428, 0.45956, 0.37989, 0.3766, 'NA', 0.51796, 0.35347, 'NA', 0.5275, 0.54496, 0, 'NA', 0.5197, 0.40472, 0.48033, 'NA', 0.4539, 0.55297, 0.34121, 0.47807, 0.54536, 0.30088, 0.2496, 0.26963, 0.6924, 0.25129, 'NA', 0.20449, 0.24204, 0.21083, 0.20306, 'NA'], ['Mymaridae', 'NA', 'NA', 'NA', 'NA', 'NA', 'NA', 'NA', 'NA', 'NA', 'NA', 'NA', 'NA', 'NA', 'NA', 'NA', 'NA', 'NA', 'NA', 'NA', 'NA', 0, 'NA', 'NA', 'NA', 'NA', 'NA', 'NA', 'NA', 'NA', 'NA', 'NA', 'NA', 'NA', 'NA', 'NA', 'NA', 'NA', 'NA', 'NA', 'NA', 'NA'], ['Platygastridae', 0.60443, 0.6244, 0.43727, 0.53774, 0.80451, 0.42437, 0.56916, 0.74816, 0.69018, 0.73577, 0.59384, 0.54295, 0.55767, 'NA', 0.68945, 0.51731, 'NA', 0.76873, 0.70219, 0.5197, 'NA', 0, 0.6065, 0.64337, 'NA', 0.3963, 0.51595, 0.50102, 0.66422, 0.74923, 0.47098, 0.42262, 0.44236, 0.31353, 0.38074, 'NA', 0.38816, 0.37439, 0.38939, 0.40812, 'NA'], ['Trichogrammatidae', 0.59015, 0.53699, 0.44434, 0.46883, 0.73309, 0.3401, 0.476, 0.69893, 0.55645, 0.66264, 0.51207, 0.51145, 0.47376, 'NA', 0.6757, 0.4784, 'NA', 0.5997, 0.68732, 0.40472, 'NA', 0.6065, 0, 0.6471, 'NA', 0.35513, 0.39254, 0.39023, 0.58011, 0.69781, 0.44046, 0.37249, 0.40731, 0.20746, 0.2904, 'NA', 0.29089, 0.28409, 0.28561, 0.33332, 'NA'], ['Eulophidae', 0.70865, 0.6263, 0.52896, 0.52301, 0.77058, 0.41559, 0.53689, 0.8138, 0.69031, 0.70967, 0.60442, 0.62167, 0.53387, 'NA', 0.7792, 0.57806, 'NA', 0.66096, 0.7638, 0.48033, 'NA', 0.64337, 0.6471, 0, 'NA', 0.42914, 0.47248, 0.47526, 0.65637, 0.79626, 0.53142, 0.47225, 0.50807, 0.34041, 0.36471, 'NA', 0.35412, 0.36508, 0.35833, 0.43099, 'NA'], ['Papilionidae', 'NA', 'NA', 'NA', 'NA', 'NA', 'NA', 'NA', 'NA', 'NA', 'NA', 'NA', 'NA', 'NA', 'NA', 'NA', 'NA', 'NA', 'NA', 'NA', 'NA', 'NA', 'NA', 'NA', 'NA', 0, 'NA', 'NA', 'NA', 'NA', 'NA', 'NA', 'NA', 'NA', 'NA', 'NA', 'NA', 'NA', 'NA', 'NA', 'NA', 'NA'], ['Andrenidae', 0.38493, 0.45136, 0.46649, 0.53516, 0.6278, 0.18102, 0.32926, 0.59377, 0.46305, 0.55324, 0.37591, 0.32357, 0.31518, 'NA', 0.46632, 0.29302, 'NA', 0.38568, 0.4978, 0.4539, 'NA', 0.3963, 0.35513, 0.42914, 'NA', 0, 0.46559, 0.26522, 0.41466, 0.49704, 0.24452, 0.18677, 0.20956, 0.60468, 0.16297, 'NA', 0.13987, 0.15844, 0.13941, 0.13761, 'NA'], ['Colletidae', 0.42421, 0.51809, 0.5756, 0.63079, 0.68273, 0.2294, 0.37802, 0.65594, 0.52122, 0.63582, 0.43841, 0.37092, 0.36399, 'NA', 0.50657, 0.33837, 'NA', 0.525, 0.54503, 0.55297, 'NA', 0.51595, 0.39254, 0.47248, 'NA', 0.46559, 0, 0.32523, 0.45601, 0.54128, 0.29118, 0.23415, 0.25262, 0.67976, 0.23336, 'NA', 0.19043, 0.22412, 0.19858, 0.1909, 'NA'], ['Cephidae', 0.41906, 0.43579, 0.35023, 0.40971, 0.71424, 0.21608, 0.35433, 0.61132, 0.52883, 0.66547, 0.37648, 0.35131, 0.37889, 'NA', 0.49773, 0.31335, 'NA', 0.51729, 0.5194, 0.34121, 'NA', 0.50102, 0.39023, 0.47526, 'NA', 0.26522, 0.32523, 0, 0.43874, 0.52986, 0.26593, 0.20101, 0.23407, 0.34124, 0.16197, 'NA', 0.17275, 0.15542, 0.15657, 0.16033, 'NA'], ['Diapriidae', 0.62474, 0.59834, 0.37399, 0.46688, 0.77357, 0.38505, 0.57503, 0.71372, 0.67797, 0.72534, 0.55848, 0.55648, 0.52159, 'NA', 0.70588, 0.53164, 'NA', 0.67897, 0.71476, 0.47807, 'NA', 0.66422, 0.58011, 0.65637, 'NA', 0.41466, 0.45601, 0.43874, 0, 0.74917, 0.48233, 0.39862, 0.45032, 0.22528, 0.33002, 'NA', 0.32833, 0.32657, 0.32848, 0.37821, 'NA'], ['Encyrtidae', 0.77185, 0.69325, 0.57684, 0.56029, 0.82534, 0.48741, 0.61577, 0.83177, 0.75797, 0.74579, 0.67589, 0.68746, 0.61646, 'NA', 0.83929, 0.65099, 'NA', 0.72689, 0.84752, 0.54536, 'NA', 0.74923, 0.69781, 0.79626, 'NA', 0.49704, 0.54128, 0.52986, 0.74917, 0, 0.61735, 0.53608, 0.5766, 0.30405, 0.43137, 'NA', 0.43553, 0.42021, 0.42809, 0.51319, 'NA'], ['Torymidae', 0.53485, 0.41456, 0.24487, 0.31433, 0.64567, 0.20746, 0.35508, 0.56362, 0.49144, 0.61407, 0.37035, 0.45192, 0.34319, 'NA', 0.59609, 0.42528, 'NA', 0.48752, 0.59553, 0.30088, 'NA', 0.47098, 0.44046, 0.53142, 'NA', 0.24452, 0.29118, 0.26593, 0.48233, 0.61735, 0, 0.27929, 0.31388, 0.1661, 0.15671, 'NA', 0.15653, 0.15498, 0.15912, 0.20576, 'NA'], ['Ormyridae', 0.45875, 0.35021, 0.26618, 0.31838, 0.6081, 0.14054, 0.28343, 0.52537, 0.42621, 0.58542, 0.29244, 0.37512, 0.27981, 'NA', 0.52146, 0.37721, 'NA', 0.43258, 0.52762, 0.2496, 'NA', 0.42262, 0.37249, 0.47225, 'NA', 0.18677, 0.23415, 0.20101, 0.39862, 0.53608, 0.27929, 0, 0.24269, 0.42345, 0.0885, 'NA', 0.09417, 0.08304, 0.0873, 0.11484, 'NA'], ['Megastigmidae', 0.49416, 0.38154, 0.29486, 0.28747, 0.6136, 0.17243, 0.31634, 0.55503, 0.46017, 0.60534, 0.33975, 0.41386, 0.30457, 'NA', 0.56751, 0.373, 'NA', 0.38578, 0.5627, 0.26963, 'NA', 0.44236, 0.40731, 0.50807, 'NA', 0.20956, 0.25262, 0.23407, 0.45032, 0.5766, 0.31388, 0.24269, 0, 0.15383, 0.12061, 'NA', 0.12131, 0.11849, 0.11955, 0.15873, 'NA'], ['Crabronidae', 0.32396, 0.50112, 0.68635, 0.76022, 0.43561, 0.40989, 0.26439, 0.40842, 0.47703, 0.37849, 0.55289, 0.19251, 0.5401, 'NA', 0.34391, 0.23221, 'NA', 0.31536, 0.25599, 0.6924, 'NA', 0.31353, 0.20746, 0.34041, 'NA', 0.60468, 0.67976, 0.34124, 0.22528, 0.30405, 0.1661, 0.42345, 0.15383, 0, 0.46205, 'NA', 0.36898, 0.45028, 0.38818, 0.19266, 'NA'], ['Pompilidae', 0.30926, 0.34819, 0.25866, 0.32097, 0.58296, 0.08888, 0.23357, 0.52021, 0.39408, 0.56204, 0.27096, 0.23739, 0.22889, 'NA', 0.39993, 0.21016, 'NA', 0.39297, 0.42631, 0.25129, 'NA', 0.38074, 0.2904, 0.36471, 'NA', 0.16297, 0.23336, 0.16197, 0.33002, 0.43137, 0.15671, 0.0885, 0.12061, 0.46205, 0, 'NA', 0.04312, 0.03088, 0.03315, 0.03748, 'NA'], ['Melittidae', 'NA', 'NA', 'NA', 'NA', 'NA', 'NA', 'NA', 'NA', 'NA', 'NA', 'NA', 'NA', 'NA', 'NA', 'NA', 'NA', 'NA', 'NA', 'NA', 'NA', 'NA', 'NA', 'NA', 'NA', 'NA', 'NA', 'NA', 'NA', 'NA', 'NA', 'NA', 'NA', 'NA', 'NA', 'NA', 0, 'NA', 'NA', 'NA', 'NA', 'NA'], ['Athaliidae', 0.29391, 0.2907, 0.21008, 0.26858, 0.59529, 0.13727, 0.23747, 0.45749, 0.37726, 0.5397, 0.24826, 0.23632, 0.36396, 'NA', 0.3935, 0.19953, 'NA', 0.40371, 0.41933, 0.20449, 'NA', 0.38816, 0.29089, 0.35412, 'NA', 0.13987, 0.19043, 0.17275, 0.32833, 0.43553, 0.15653, 0.09417, 0.12131, 0.36898, 0.04312, 'NA', 0, 0.03855, 0.04978, 0.05369, 'NA'], ['Tiphiidae', 0.30229, 0.34091, 0.25484, 0.31279, 0.57084, 0.08192, 0.23141, 0.51351, 0.38399, 0.55762, 0.26671, 0.23449, 0.21868, 'NA', 0.39152, 0.20295, 'NA', 0.38348, 0.41913, 0.24204, 'NA', 0.37439, 0.28409, 0.36508, 'NA', 0.15844, 0.22412, 0.15542, 0.32657, 0.42021, 0.15498, 0.08304, 0.11849, 0.45028, 0.03088, 'NA', 0.03855, 0, 0.02828, 0.03361, 'NA'], ['Gasteruptiidae', 0.2989, 0.29684, 0.21927, 0.2701, 0.59278, 0.09307, 0.23611, 0.4689, 0.38177, 0.55136, 0.24524, 0.2371, 0.23957, 'NA', 0.39951, 0.20742, 'NA', 0.39471, 0.41565, 0.21083, 'NA', 0.38939, 0.28561, 0.35833, 'NA', 0.13941, 0.19858, 0.15657, 0.32848, 0.42809, 0.15912, 0.0873, 0.11955, 0.38818, 0.03315, 'NA', 0.04978, 0.02828, 0, 0.0403, 'NA'], ['Chalcididae', 0.3782, 0.31929, 0.22424, 0.25371, 0.60966, 0.10223, 0.2595, 0.48575, 0.4094, 0.57218, 0.2758, 0.30776, 0.26136, 'NA', 0.48368, 0.27156, 'NA', 0.43073, 0.48577, 0.20306, 'NA', 0.40812, 0.33332, 0.43099, 'NA', 0.13761, 0.1909, 0.16033, 0.37821, 0.51319, 0.20576, 0.11484, 0.15873, 0.19266, 0.03748, 'NA', 0.05369, 0.03361, 0.0403, 0, 'NA'], ['Orussidae', 'NA', 'NA', 'NA', 'NA', 'NA', 'NA', 'NA', 'NA', 'NA', 'NA', 'NA', 'NA', 'NA', 'NA', 'NA', 'NA', 'NA', 'NA', 'NA', 'NA', 'NA', 'NA', 'NA', 'NA', 'NA', 'NA', 'NA', 'NA', 'NA', 'NA', 'NA', 'NA', 'NA', 'NA', 'NA', 'NA', 'NA', 'NA', 'NA', 'NA', 0]]\n"
     ]
    }
   ],
   "source": [
    "for key1, index1 in zip(key_list, range(len(key_list))):\n",
    "     for key2, index2 in zip(key_list, range(len(key_list))):\n",
    "        if key1 == key2:\n",
    "            break\n",
    "        else:\n",
    "            dist_array_k1_k1 = dist_dict[key1][key1]\n",
    "            dist_array_k2_k2 = dist_dict[key2][key2]\n",
    "            dist_array_k1_k2 = dist_dict[key1][key2]\n",
    "\n",
    "            across_k1_k2 = sum(dist_array_k1_k2)/len(dist_array_k1_k2)\n",
    "\n",
    "            max_k1_k1 = max(dist_array_k1_k1) if (len(dist_array_k1_k1) != 0) else 0\n",
    "            max_k2_k2 = max(dist_array_k1_k1) if (len(dist_array_k1_k1) != 0) else 0\n",
    "            max_k1_k2 = max(dist_array_k1_k2) \n",
    "\n",
    "            clade_dist_mtrx[index1+1][index2+1] = clade_dist_mtrx[index2+1][index1+1] = max_k1_k2 - (max_k1_k1 + max_k2_k2)/2\n",
    " \n",
    "            if ((len(dist_array_k1_k1) == 0) or len(dist_array_k2_k2) == 0):\n",
    "                # Checks if any of the populations only have one members.\n",
    "                # Calculates F1 or F2 if possible. If not, assigns \"NA\". \n",
    "                # Assigns \"NA\" to all other Fst calculations.\n",
    "                if (len(dist_array_k1_k1) != 0):\n",
    "                    within_k1 = sum(dist_array_k1_k1)/len(dist_array_k1_k1)\n",
    "                    F1 = within_k1/across_k1_k2\n",
    "                    thetas_list[index1] = round(within_k1, 5)\n",
    "                    F_mtrx[index1+1][index2+1] = round(F1, 5)\n",
    "                    F_mtrx[index2+1][index1+1] = \"NA\"\n",
    "                elif (len(dist_array_k2_k2) != 0):\n",
    "                    within_k2 = sum(dist_array_k2_k2)/len(dist_array_k2_k2)\n",
    "                    F2 = within_k2/across_k1_k2\n",
    "                    thetas_list[index1] = \"NA\"\n",
    "                    F_mtrx[index1+1][index2+1] = \"NA\"\n",
    "                    F_mtrx[index2+1][index1+1] = round(F2, 5)\n",
    "                    \n",
    "                else:\n",
    "                    F_mtrx[index1+1][index2+1] = F_mtrx[index2+1][index1+1] =\"NA\"\n",
    "\n",
    "                wh_fst_mtrx[index1+1][index2+1] = wh_fst_mtrx[index2+1][index1+1] = \"NA\"\n",
    "                wc_fst_mtrx[index1+1][index2+1] = wc_fst_mtrx[index2+1][index1+1] = \"NA\"\n",
    "                nei_fst_mtrx[index1+1][index2+1] = nei_fst_mtrx[index2+1][index1+1] = \"NA\"\n",
    "                hud_fst_mtrx[index1+1][index2+1] = hud_fst_mtrx[index2+1][index1+1] = \"NA\"\n",
    "            else:\n",
    "                within_k1 = sum(dist_array_k1_k1)/len(dist_array_k1_k1)\n",
    "                within_k2 = sum(dist_array_k2_k2)/len(dist_array_k2_k2)\n",
    "\n",
    "                F1 = within_k1/across_k1_k2\n",
    "                F2 = within_k2/across_k1_k2\n",
    "\n",
    "                if len(dist_array_k1_k1) <= len(dist_array_k2_k2):\n",
    "                    M=len(dist_array_k1_k1)/len(dist_array_k2_k2)\n",
    "                else:\n",
    "                    M=len(dist_array_k2_k2)/len(dist_array_k1_k1)\n",
    "\n",
    "                thetas_list[index1] = round(within_k1, 5)\n",
    "                # NOTE: F_matrix contains F1 in the lower half and F2 in the upper half. \n",
    "                F_mtrx[index1+1][index2+1] =  round(F1, 5)\n",
    "                F_mtrx[index2+1][index1+1] =  round(F2, 5)\n",
    "                wh_fst_mtrx[index1+1][index2+1] = wh_fst_mtrx[index2+1][index1+1] = round((F1 + F2)/2, 5)\n",
    "                wc_fst_mtrx[index1+1][index2+1] = wc_fst_mtrx[index2+1][index1+1] = round(calculate_WC_FST(F1, F2, M), 5)\n",
    "                nei_fst_mtrx[index1+1][index2+1] = nei_fst_mtrx[index2+1][index1+1] = round(calculate_Nei_FST(F1, F2), 5)\n",
    "                hud_fst_mtrx[index1+1][index2+1] = hud_fst_mtrx[index2+1][index1+1] =  round(calculate_Hudson_FST(F1, F2), 5)\n",
    "print(wh_fst_mtrx)"
   ]
  },
  {
   "cell_type": "code",
   "execution_count": 11,
   "metadata": {},
   "outputs": [],
   "source": [
    "np.savetxt(\"./theta_list_genu_nas.txt\", np.matrix(thetas_list), fmt=\"%s\", delimiter=\"\\t\")\n",
    "np.savetxt(\"./F_mat_genu_nas.txt\", np.matrix(F_mtrx), fmt=\"%s\", delimiter=\"\\t\")\n",
    "np.savetxt(\"./wh_fst_mat_genu_nas.txt\", np.matrix(wh_fst_mtrx), fmt=\"%s\", delimiter=\"\\t\")\n",
    "np.savetxt(\"./wc_fst_mat_genu_nas.txt\", np.matrix(wc_fst_mtrx), fmt=\"%s\", delimiter=\"\\t\")\n",
    "np.savetxt(\"./nei_fst_mat_genu_nas.txt\", np.matrix(nei_fst_mtrx), fmt=\"%s\", delimiter=\"\\t\")\n",
    "np.savetxt(\"./hud_fst_mat_genu_nas.txt\", np.matrix(hud_fst_mtrx), fmt=\"%s\", delimiter=\"\\t\")\n",
    "np.savetxt(\"./clade_dist_mat_genu_nas.txt\", np.matrix(clade_dist_mtrx), fmt=\"%s\", delimiter=\"\\t\")"
   ]
  },
  {
   "cell_type": "code",
   "execution_count": null,
   "metadata": {},
   "outputs": [],
   "source": []
  }
 ],
 "metadata": {
  "kernelspec": {
   "display_name": "data_science",
   "language": "python",
   "name": "python3"
  },
  "language_info": {
   "codemirror_mode": {
    "name": "ipython",
    "version": 3
   },
   "file_extension": ".py",
   "mimetype": "text/x-python",
   "name": "python",
   "nbconvert_exporter": "python",
   "pygments_lexer": "ipython3",
   "version": "3.11.4"
  },
  "orig_nbformat": 4
 },
 "nbformat": 4,
 "nbformat_minor": 2
}
