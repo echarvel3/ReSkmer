{
 "cells": [
  {
   "cell_type": "code",
   "execution_count": 1,
   "metadata": {},
   "outputs": [],
   "source": [
    "# 1. Read the ref-dist-mat into numpy for array\n",
    "# 2. Replace array names with annotations\n",
    "# 3. Double for loop to calculate F1 and F2\n",
    "# 4. Use F measuremnts to calculated M and FST measures"
   ]
  },
  {
   "cell_type": "code",
   "execution_count": 20,
   "metadata": {},
   "outputs": [],
   "source": [
    "import numpy\n",
    "from copy import deepcopy"
   ]
  },
  {
   "cell_type": "code",
   "execution_count": 3,
   "metadata": {},
   "outputs": [],
   "source": [
    "dist_mat = numpy.genfromtxt(\"/home/echarvel/Desktop/calab_data/code_bases/Skmer-2/fst_test_data/test_matrix.txt\", dtype=\"str\")\n",
    "annots = numpy.genfromtxt(\"/home/echarvel/Desktop/calab_data/code_bases/Skmer-2/fst_test_data/test_annots.txt\", dtype=\"str\")\n",
    "\n",
    "for line in annots:\n",
    "    x=numpy.where(dist_mat == line[0])\n",
    "    for index in x: \n",
    "        try:\n",
    "            dist_mat[index[0]][index[1]] = line[1]\n",
    "        except: pass"
   ]
  },
  {
   "cell_type": "code",
   "execution_count": 4,
   "metadata": {},
   "outputs": [
    {
     "name": "stdout",
     "output_type": "stream",
     "text": [
      "{'BOAR1': {'BOAR1': [0.01, 0.1], 'PIG2': [0.15, 0.1, 0.8, 0.9]}, 'PIG2': {'BOAR1': [0.15, 0.8, 0.1, 0.9], 'PIG2': [0.02, 0.02]}}\n"
     ]
    }
   ],
   "source": [
    "dist_dict = dict()\n",
    "\n",
    "for num1 in range(1, len(dist_mat[0])):\n",
    "    for num2 in range(1, len(dist_mat[0])):\n",
    "        if num1 != num2: \n",
    "            name1=dist_mat[0][num1]\n",
    "            name2=dist_mat[0][num2]\n",
    "            if name1 not in dist_dict:\n",
    "                dist_dict[name1] = dict()\n",
    "\n",
    "            if name2 not in dist_dict[name1]:\n",
    "                dist_dict[name1][name2] = [float(dist_mat[num1, num2])]\n",
    "            else: \n",
    "                dist_dict[name1][name2].append(float(dist_mat[num1, num2]))\n",
    "\n",
    "print(dist_dict)"
   ]
  },
  {
   "cell_type": "code",
   "execution_count": 5,
   "metadata": {},
   "outputs": [],
   "source": [
    "def calculate_WC_FST(F1, F2, M):\n",
    "    numerator_wc_fst = F1 + F2\n",
    "    denominator_wc_fst = F1 + F2 + 2 * (1 / (M + 1)) * (M * (1 - F1) + (1 - F2))\n",
    "    WC_FST = numerator_wc_fst / denominator_wc_fst\n",
    "    return WC_FST\n",
    "\n",
    "def calculate_Nei_FST(F1, F2):\n",
    "    numerator_nei_fst = F1 + F2\n",
    "    denominator_nei_fst = 2 - ((F1 + F2) / 2)\n",
    "    Nei_FST = numerator_nei_fst / denominator_nei_fst\n",
    "    return Nei_FST\n",
    "\n",
    "def calculate_Hudson_FST(F1, F2):\n",
    "    Hudson_FST = (F1 + F2) / 2\n",
    "    return Hudson_FST"
   ]
  },
  {
   "cell_type": "code",
   "execution_count": 21,
   "metadata": {},
   "outputs": [],
   "source": [
    "wh_fst_mtrx = [[0 for x in range(0, len(dist_dict)+1)] for x in range(0, len(dist_dict)+1)]\n",
    "wh_fst_mtrx[0][0]=\"sample\"\n",
    "\n",
    "key_list = list(dist_dict.keys())\n",
    "for x in range(0, len(key_list)):\n",
    "    wh_fst_mtrx[0][x+1] = wh_fst_mtrx[x+1][0] = (key_list[x])\n",
    "\n",
    "wc_fst_mtrx = deepcopy(wh_fst_mtrx)\n",
    "nei_fst_mtrx = deepcopy(wh_fst_mtrx)\n",
    "hud_fst_mtrx = deepcopy(wh_fst_mtrx)"
   ]
  },
  {
   "cell_type": "code",
   "execution_count": 26,
   "metadata": {},
   "outputs": [],
   "source": [
    "for key1, index1 in zip(key_list, range(len(key_list))):\n",
    "     for key2, index2 in zip(key_list, range(len(key_list))):\n",
    "        if key1 == key2:\n",
    "            pass\n",
    "        else:\n",
    "            # calculating within-clade average distance\n",
    "            dist_array_k1_k1 = dist_dict[key1][key1]\n",
    "            within_k1 = (sum(dist_array_k1_k1)/len(dist_array_k1_k1))\n",
    "\n",
    "            dist_array_k2_k2 = dist_dict[key2][key2]\n",
    "            within_k2 = sum(dist_array_k2_k2)/len(dist_array_k2_k2)\n",
    "\n",
    "            # calculating across-clade average distance\n",
    "            dist_array_k1_k2 = dist_dict[key1][key2]\n",
    "            across_k1_k2 = (sum(dist_array_k1_k2)/len(dist_array_k1_k2))\n",
    "\n",
    "            F1 = within_k1/across_k1_k2\n",
    "            F2 = within_k2/across_k1_k2\n",
    "\n",
    "            if len(dist_array_k1_k1) <= len(dist_array_k2_k2):\n",
    "                M=len(dist_array_k1_k1)/len(dist_array_k2_k2)\n",
    "            else:\n",
    "                M=len(dist_array_k2_k2)/len(dist_array_k1_k1)\n",
    "\n",
    "            wh_fst_mtrx[index1+1][index2+1] = round((F1 + F2)/2, 5)\n",
    "            wc_fst_mtrx[index1+1][index2+1] = round(calculate_WC_FST(F1, F2, M), 5)\n",
    "            nei_fst_mtrx[index1+1][index2+1] = round(calculate_Nei_FST(F1, F2), 5)\n",
    "            hud_fst_mtrx[index1+1][index2+1] =  round(calculate_Hudson_FST(F1, F2), 5)\n"
   ]
  },
  {
   "cell_type": "code",
   "execution_count": 31,
   "metadata": {},
   "outputs": [],
   "source": [
    "numpy.savetxt(\"./wh_fst_mat.txt\", numpy.matrix(wh_fst_mtrx), fmt=\"%s\", delimiter=\"\\t\")\n"
   ]
  }
 ],
 "metadata": {
  "kernelspec": {
   "display_name": "data_science",
   "language": "python",
   "name": "python3"
  },
  "language_info": {
   "codemirror_mode": {
    "name": "ipython",
    "version": 3
   },
   "file_extension": ".py",
   "mimetype": "text/x-python",
   "name": "python",
   "nbconvert_exporter": "python",
   "pygments_lexer": "ipython3",
   "version": "3.11.4"
  },
  "orig_nbformat": 4
 },
 "nbformat": 4,
 "nbformat_minor": 2
}
